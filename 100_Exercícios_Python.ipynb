{
  "nbformat": 4,
  "nbformat_minor": 0,
  "metadata": {
    "colab": {
      "name": "100 Exercícios Python.ipynb",
      "provenance": [],
      "collapsed_sections": [],
      "authorship_tag": "ABX9TyPx3sU099+Npnu7x2jmwZqM",
      "include_colab_link": true
    },
    "kernelspec": {
      "name": "python3",
      "display_name": "Python 3"
    },
    "language_info": {
      "name": "python"
    }
  },
  "cells": [
    {
      "cell_type": "markdown",
      "metadata": {
        "id": "view-in-github",
        "colab_type": "text"
      },
      "source": [
        "<a href=\"https://colab.research.google.com/github/ThiagoBellasDS/TreinandoGit/blob/master/100_Exerc%C3%ADcios_Python.ipynb\" target=\"_parent\"><img src=\"https://colab.research.google.com/assets/colab-badge.svg\" alt=\"Open In Colab\"/></a>"
      ]
    },
    {
      "cell_type": "code",
      "metadata": {
        "colab": {
          "base_uri": "https://localhost:8080/"
        },
        "id": "A76VsNU5BmRh",
        "outputId": "7835ea1d-90ee-4975-ed91-1e439ae5ec91"
      },
      "source": [
        "#Exercício 001 - Crie um programa que escreva \"Olá Mundo!\" na tela\n",
        "frase1 = 'Olá Mundo!'\n",
        "print(frase1)"
      ],
      "execution_count": null,
      "outputs": [
        {
          "output_type": "stream",
          "text": [
            "Olá Mundo!\n"
          ],
          "name": "stdout"
        }
      ]
    },
    {
      "cell_type": "code",
      "metadata": {
        "colab": {
          "base_uri": "https://localhost:8080/"
        },
        "id": "Kg4meKk7EwWn",
        "outputId": "94e60df6-474b-4905-f3fd-a1a4aff8bc8b"
      },
      "source": [
        "#Exercício 002 - Faça um programa que leia o nome de uma pessoa e mostre uma mensagem de boas-vindas.\n",
        "nome = (input('Digite seu nome: '))\n",
        "print('Prazer em conhece-lo {}!'.format(nome))"
      ],
      "execution_count": null,
      "outputs": [
        {
          "output_type": "stream",
          "text": [
            "Digite seu nome: Thiago\n",
            "Prazer em conhece-lo Thiago!\n"
          ],
          "name": "stdout"
        }
      ]
    },
    {
      "cell_type": "code",
      "metadata": {
        "colab": {
          "base_uri": "https://localhost:8080/"
        },
        "id": "LDL-MCBwGHkj",
        "outputId": "bb5dbbb4-7e8d-46fa-fc44-1c020ebe0f3d"
      },
      "source": [
        "#Exercício 003 - Crie um programa que leia dois números e mostre a soma entre eles.\n",
        "n1 = int(input('Digite um número: '))\n",
        "n2 = int(input('Digite outro número: '))\n",
        "soma = n1 + n2 \n",
        "print('A soma entre {} e {} é igual a {}!'.format(n1, n2, soma))"
      ],
      "execution_count": null,
      "outputs": [
        {
          "output_type": "stream",
          "text": [
            "Digite um número: 3\n",
            "Digite outro número: 4\n",
            "A soma entre 3 e 4 é igual a 7!\n"
          ],
          "name": "stdout"
        }
      ]
    },
    {
      "cell_type": "code",
      "metadata": {
        "colab": {
          "base_uri": "https://localhost:8080/"
        },
        "id": "-DgG7TlDHe4c",
        "outputId": "e13139c4-f51f-4d2a-e8bb-1f40afe311e9"
      },
      "source": [
        "#Exercício 004 - Faça um programa que leia algo pelo teclado e mostre na tela o seu tipo primitivo e todas as informações possíveis sobre ele.\n",
        "a = input('Digite ago: ')\n",
        "print('O o tipo primitivo deste valor é ', (type(a)))\n",
        "print('O tipo primitivo é um número?', a.isnumeric())\n",
        "print('O tipo primitivo são espaços?', a.isspace())\n",
        "print('O timo primitivo tem são todas maiúsculas?', a.isupper())\n",
        "print('É alfabético?', a.isalpha())\n",
        "print('É decimal?', a.isdecimal())\n",
        "print('E alfanumérico?', a.isalnum())\n",
        "print('Está em minúsculas?', a.islower())\n",
        "print('Começa com maiúscula?', a.title())"
      ],
      "execution_count": null,
      "outputs": [
        {
          "output_type": "stream",
          "text": [
            "Digite ago: Thaigo\n",
            "O o tipo primitivo deste valor é  <class 'str'>\n",
            "O tipo primitivo é um número? False\n",
            "O tipo primitivo são espaços? False\n",
            "O timo primitivo tem são todas maiúsculas? False\n",
            "É alfabético? True\n",
            "É decimal? False\n",
            "E alfanumérico? True\n",
            "Está em minúsculas? False\n",
            "Começa com maiúscula? Thaigo\n"
          ],
          "name": "stdout"
        }
      ]
    },
    {
      "cell_type": "code",
      "metadata": {
        "colab": {
          "base_uri": "https://localhost:8080/"
        },
        "id": "svONHGmULG0Q",
        "outputId": "46a8268d-37f7-4119-cd99-832a6afb78b8"
      },
      "source": [
        "#Exercício 005 - Faça um programa que leia um número Inteiro e mostre na tela o seu sucessor e seu antecessor.\n",
        "n = int(input('Digite um número: '))\n",
        "s = n + 1\n",
        "a = n - 1\n",
        "print('O antecessor de {} é {}, e o sucessor é {}'.format(n, a, s))"
      ],
      "execution_count": null,
      "outputs": [
        {
          "output_type": "stream",
          "text": [
            "Digite um número: 5\n",
            "O antecessor de 5 é 4, e o sucessor é 6\n"
          ],
          "name": "stdout"
        }
      ]
    },
    {
      "cell_type": "code",
      "metadata": {
        "id": "HVXcVWBGOsXE"
      },
      "source": [
        "#Exercício 006 - Crie um algoritmo que leia um número e mostre o seu dobro, triplo e raiz quadrada.\n",
        "from math import sqrt"
      ],
      "execution_count": null,
      "outputs": []
    },
    {
      "cell_type": "code",
      "metadata": {
        "colab": {
          "base_uri": "https://localhost:8080/"
        },
        "id": "8C-rztMxQsh3",
        "outputId": "4650e6d3-c3b4-4cb7-e09e-3d109d1242a8"
      },
      "source": [
        "n = float(input('Digite um número: '))\n",
        "db = n * 2\n",
        "tp = n * 3\n",
        "rz = sqrt(n)\n",
        "\n",
        "print('O dobro de {} é {} \\nO triplo de {} é {} \\nA raiz quadrada de {} é {: .2f}'.format(n, db, n, tp, n, rz))"
      ],
      "execution_count": null,
      "outputs": [
        {
          "output_type": "stream",
          "text": [
            "Digite um número: 81\n",
            "O dobro de 81.0 é 162.0 \n",
            "O triplo de 81.0 é 243.0 \n",
            "A raiz quadrada de 81.0 é  9.00\n"
          ],
          "name": "stdout"
        }
      ]
    },
    {
      "cell_type": "code",
      "metadata": {
        "colab": {
          "base_uri": "https://localhost:8080/"
        },
        "id": "NOzCvayfTjv5",
        "outputId": "87e6412f-86a6-40b2-d4b6-bd73110fca21"
      },
      "source": [
        "#Exercício 007 - Desenvolva um programa que leia as duas notas de um aluno, calcule e mostre a sua média.\n",
        "n1 = float(input('Digite a primeira nota: '))\n",
        "n2 = float(input('Digite outra nota: '))\n",
        "md = (n1 + n2) / 2\n",
        "print('A sua média foi de {}'.format(md))"
      ],
      "execution_count": null,
      "outputs": [
        {
          "output_type": "stream",
          "text": [
            "Digite a primeira nota: 4\n",
            "Digite outra nota: 2\n",
            "A sua média foi de 3.0\n"
          ],
          "name": "stdout"
        }
      ]
    },
    {
      "cell_type": "code",
      "metadata": {
        "colab": {
          "base_uri": "https://localhost:8080/"
        },
        "id": "GEVToL61VBUh",
        "outputId": "6139d774-22c2-48f8-edf8-36a6d6aba63d"
      },
      "source": [
        "#Exercício 008 - Escreva um programa que leia um valor em metros e o exiba convertido em centímetros e milímetros.\n",
        "metros = float(input('Digite os metros que deseja converter: '))\n",
        "cmt = metros * 100\n",
        "mmt = metros * 1000\n",
        "print('A distância de {} metros corresponde a {:.0f} centímetros ou {:.0f} milímetros'.format(metros, cmt, mmt))"
      ],
      "execution_count": null,
      "outputs": [
        {
          "output_type": "stream",
          "text": [
            "Digite os metros que deseja converter: 2.5\n",
            "A distância de 2.5 metros corresponde a 250 centímetros ou 2500 milímetros\n"
          ],
          "name": "stdout"
        }
      ]
    },
    {
      "cell_type": "code",
      "metadata": {
        "colab": {
          "base_uri": "https://localhost:8080/"
        },
        "id": "hhKlLaA-X8t-",
        "outputId": "3605e866-95e5-4c6f-fc70-a4d0094eac77"
      },
      "source": [
        "#Excercício 009 - Faça um programa que leia um número Inteiro qualquer e mostre na tela a sua tabuada.\n",
        "num = int(input('Digite um número para ver a tabuada: '))\n",
        "print('-'*15)\n",
        "print(f'{num} x {1} = {num*1}')\n",
        "print(f'{num} x {2} = {num*2}')\n",
        "print(f'{num} x {3} = {num*3}')\n",
        "print(f'{num} x {4} = {num*4}')\n",
        "print(f'{num} x {5} = {num*5}')\n",
        "print(f'{num} x {6} = {num*6}')\n",
        "print(f'{num} x {7} = {num*7}')\n",
        "print(f'{num} x {8} = {num*8}')\n",
        "print(f'{num} x {9} = {num*9}')\n",
        "print(f'{num} x {10} = {num*10}')\n",
        "print('-'*15)"
      ],
      "execution_count": null,
      "outputs": [
        {
          "output_type": "stream",
          "text": [
            "Digite um número para ver a tabuada: 100\n",
            "---------------\n",
            "100 x 1 = 100\n",
            "100 x 2 = 200\n",
            "100 x 3 = 300\n",
            "100 x 4 = 400\n",
            "100 x 5 = 500\n",
            "100 x 6 = 600\n",
            "100 x 7 = 700\n",
            "100 x 8 = 800\n",
            "100 x 9 = 900\n",
            "100 x 10 = 1000\n",
            "---------------\n"
          ],
          "name": "stdout"
        }
      ]
    },
    {
      "cell_type": "code",
      "metadata": {
        "id": "lOAmU5pfb6Vs",
        "colab": {
          "base_uri": "https://localhost:8080/"
        },
        "outputId": "bd340ee6-4fee-4aa7-c372-92a5e8a231e0"
      },
      "source": [
        "#Excercício 010 - Crie um programa que leia quanto dinheiro uma pessoa tem na carteira e mostre quantos dólares ela pode comprar.\n",
        "c = float(input('Quanto dinheiro tem na carteira? R$ '))\n",
        "d = 6.4\n",
        "conv = c / d\n",
        "print('Com {:.2f} reais você pode comprar {:.2f} dolares'.format(c, conv))"
      ],
      "execution_count": null,
      "outputs": [
        {
          "output_type": "stream",
          "text": [
            "Quanto dinheiro tem na carteira? R$ 232\n",
            "Com 232.00 reais você pode comprar 36.25 dolares\n"
          ],
          "name": "stdout"
        }
      ]
    },
    {
      "cell_type": "code",
      "metadata": {
        "colab": {
          "base_uri": "https://localhost:8080/"
        },
        "id": "SPe2VJnUYd7p",
        "outputId": "e2751ce2-5d07-4fea-84d6-8f7952622fe2"
      },
      "source": [
        "#Execício 011 - Faça um programa que leia a largura e a altura de uma parede em metros, calcule a sua área e a quantidade de tinta necessária para pintá-la,\n",
        "#sabendo que cada litro de tinta pinta uma área de 2 metros quadrados.\n",
        "\n",
        "#calcular a área a ser pintada\n",
        "x = float(input('Digite a altura da parede: '))\n",
        "y = float(input('Digite a largura da parede: '))\n",
        "tinta = 2\n",
        "dim = x * y\n",
        "qtd = dim / 2\n",
        "#calcular a qtd de tinta\n",
        "#qtd = dim / tinta\n",
        "#mostrar o resultado\n",
        "print('A sua parede tem {} x {} e uma área de {:.2} m2, e para pintar será necessário {:.2} litros de tinta.'.format(x, y, dim, qtd))"
      ],
      "execution_count": null,
      "outputs": [
        {
          "output_type": "stream",
          "text": [
            "Digite a altura da parede: 3\n",
            "Digite a largura da parede: 3\n",
            "A sua parede tem 3.0 x 3.0 e uma área de 9.0 m2, e para pintar será necessário 4.5 litros de tinta.\n"
          ],
          "name": "stdout"
        }
      ]
    },
    {
      "cell_type": "code",
      "metadata": {
        "colab": {
          "base_uri": "https://localhost:8080/"
        },
        "id": "D1e4SRhlbFmK",
        "outputId": "3ce5ca57-a4a4-4ce6-8834-817a23666ad4"
      },
      "source": [
        "#Exercício 012 - Faça um algoritmo que leia o preço de um produto e mostre seu novo preço, com 5% de desconto.\n",
        "preçocheio = float(input('Preço antes do desconto: '))\n",
        "desc = 0.05\n",
        "preçofinal = ((preçocheio * desc) - preçocheio)* -1\n",
        "print('O preço final com 5% de desconto é R$ {:.3}'.format(preçofinal))"
      ],
      "execution_count": null,
      "outputs": [
        {
          "output_type": "stream",
          "text": [
            "Preço antes do desconto: 5.43\n",
            "O preço final com 5% de desconto é R$ 5.16\n"
          ],
          "name": "stdout"
        }
      ]
    },
    {
      "cell_type": "code",
      "metadata": {
        "colab": {
          "base_uri": "https://localhost:8080/"
        },
        "id": "YoO5nwU-hhuU",
        "outputId": "6a46b3d6-846c-4929-8394-1e5485737ebb"
      },
      "source": [
        "#Exercício 013 - Faça um algoritmo que leia o salário de um funcionário e mostre seu novo salário, com 15% de aumento.\n",
        "sal = float(input('Salário atual: R$ '))\n",
        "reag = 0.15\n",
        "salf = (sal * reag) + sal\n",
        "print('Você teve um aumento salarial de 15%, seu salário passa de {:.2f} para {:.2f} a partir deste mês, parabéns!'.format(sal, salf))"
      ],
      "execution_count": null,
      "outputs": [
        {
          "output_type": "stream",
          "text": [
            "Salário atual: R$ 1000\n",
            "Você teve um aumento salarial de 15%, seu salário passa de 1000.00 para 1150.00 a partir deste mês, parabéns!\n"
          ],
          "name": "stdout"
        }
      ]
    },
    {
      "cell_type": "code",
      "metadata": {
        "colab": {
          "base_uri": "https://localhost:8080/"
        },
        "id": "-33HMphrjoiF",
        "outputId": "de168333-ae45-41cd-9936-082cc4503f41"
      },
      "source": [
        "#Exercício 014 - Escreva um programa que converta uma temperatura digitando em graus Celsius e converta para graus Fahrenheit.\n",
        "c = float(input('Digite a temperatura em graus Celcius para converter a Fahrenheit: '))\n",
        "f = (9 * c / 5) + 32\n",
        "print('{:.1f} graus Celsius corresponde a {:.1f} graus Fahrenheit.'.format(c, f))"
      ],
      "execution_count": null,
      "outputs": [
        {
          "output_type": "stream",
          "text": [
            "Digite a temperatura em graus Celcius para converter a Fahrenheit: 30\n",
            "30.0 graus Celsius corresponde a 86.0 graus Fahrenheit.\n"
          ],
          "name": "stdout"
        }
      ]
    },
    {
      "cell_type": "code",
      "metadata": {
        "colab": {
          "base_uri": "https://localhost:8080/"
        },
        "id": "bXnszrEtli5Y",
        "outputId": "f8758120-d4b4-40f0-b3e1-3e8efc8f8686"
      },
      "source": [
        "#Exercício 015 - Escreva um programa que pergunte a quantidade de Km percorridos por um carro alugado e a quantidade de dias pelos quais ele foi alugado.\n",
        "#Calcule o preço a pagar, sabendo que o carro custa R$60 por dia e R$0,15 por Km rodado.\n",
        "dias = int(input('Quantos dias alugou o carro? '))\n",
        "km = float(input('Quantos KMs percorreu? '))\n",
        "totald = dias * 60.00\n",
        "totalkm = km * 0.15\n",
        "totalgeral = totald + totalkm\n",
        "print(f'Cada dia de aluguel custa R$ 60.00, sendo {dias} dias de aluguel x R$ 60.00 um total de {totald:.2f} referente as diárias \\ne 0,15 centavos por KM x {km:.2f} que são {totalkm:.2f}, totalizando {totalgeral:.2f} de despesas com o aluguel + km rodados.')"
      ],
      "execution_count": null,
      "outputs": [
        {
          "output_type": "stream",
          "text": [
            "Quantos dias alugou o carro? 7\n",
            "Quantos KMs percorreu? 700\n",
            "Cada dia de aluguel custa R$ 60.00, sendo 7 dias de aluguel x R$ 60.00 um total de 420.00 referente as diárias \n",
            "e 0,15 centavos por KM x 700.00 que são 105.00, totalizando 525.00 de despesas com o aluguel + km rodados.\n"
          ],
          "name": "stdout"
        }
      ]
    },
    {
      "cell_type": "code",
      "metadata": {
        "colab": {
          "base_uri": "https://localhost:8080/"
        },
        "id": "paIL3QQFByTa",
        "outputId": "0408a133-92ba-4120-cbc6-2e6e03a68327"
      },
      "source": [
        "#Exercício 016 - Crie um programa que leia um número Real qualquer pelo teclado e mostre na tela a sua porção Inteira.\n",
        "#Solução digitando pelo teclado\n",
        "import math\n",
        "num = float(input('Digite um número qualquer: '))\n",
        "numint = math.trunc(num)\n",
        "print('O numero real é {}, e a parte inteira deste número é {}'.format(num, numint))"
      ],
      "execution_count": null,
      "outputs": [
        {
          "output_type": "stream",
          "text": [
            "Digite um número qualquer: 3.9242312313\n",
            "O numero real é 3.9242312313, e a parte inteira deste número é 3\n"
          ],
          "name": "stdout"
        }
      ]
    },
    {
      "cell_type": "code",
      "metadata": {
        "colab": {
          "base_uri": "https://localhost:8080/"
        },
        "id": "WRJKy3Jp05vz",
        "outputId": "9e1a9b81-f41c-4795-fa2d-c3a3effdf81f"
      },
      "source": [
        "#Exercício 016 - Crie um programa que leia um número Real qualquer pelo teclado e mostre na tela a sua porção Inteira.\n",
        "#Solução com número gerado aleatório pelo sistema\n",
        "import math\n",
        "import random\n",
        "num = random.uniform(1, 10)\n",
        "inteiro = math.trunc(num)\n",
        "print('O número aleatório é {} e a porção inteira é {}'.format(num, inteiro))"
      ],
      "execution_count": null,
      "outputs": [
        {
          "output_type": "stream",
          "text": [
            "O número aleatório é 1.6265327470461575 e a porção inteira é 1\n"
          ],
          "name": "stdout"
        }
      ]
    },
    {
      "cell_type": "code",
      "metadata": {
        "colab": {
          "base_uri": "https://localhost:8080/"
        },
        "id": "jpK0d8fO_zus",
        "outputId": "82ebaf49-ea0d-41ea-a7e8-a4e55229d2a1"
      },
      "source": [
        "#Exercício 017 - Faça um programa que leia o comprimento do cateto oposto e do cateto adjacente de um triângulo retângulo. Calcule e mostre o comprimento da hipotenusa.\n",
        "#solução 1\n",
        "import math\n",
        "a = float(input('Digite o valor do cateto oposto: '))\n",
        "b = float(input('Digite o valor do catedo adjacente: '))\n",
        "x = (a ** 2) + (b ** 2)\n",
        "h = math.sqrt(x)\n",
        "print('O comprimento da hipotenusa do triangulo retangulo é {:.2f}'.format(h))"
      ],
      "execution_count": null,
      "outputs": [
        {
          "output_type": "stream",
          "text": [
            "Digite o valor do cateto oposto: 8\n",
            "Digite o valor do catedo adjacente: 3\n",
            "O comprimento da hipotenusa do triangulo retangulo é 8.54\n"
          ],
          "name": "stdout"
        }
      ]
    },
    {
      "cell_type": "code",
      "metadata": {
        "colab": {
          "base_uri": "https://localhost:8080/"
        },
        "id": "N4LwpTt-IUQG",
        "outputId": "998004c5-22d0-4657-ae6d-330e87ed2a4f"
      },
      "source": [
        "#Exercício 017 - Faça um programa que leia o comprimento do cateto oposto e do cateto adjacente de um triângulo retângulo. Calcule e mostre o comprimento da hipotenusa.\n",
        "#solução 2 usando a função hypotis\n",
        "import math\n",
        "a = float(input('Digite o valor do cateto oposto: '))\n",
        "b = float(input('Digite o valor do catedo adjacente: '))\n",
        "h = math.hypot(a, b)\n",
        "print('O comprimento da hipotenusa do triangulo retangulo é {:.2f}'.format(h))"
      ],
      "execution_count": null,
      "outputs": [
        {
          "output_type": "stream",
          "text": [
            "Digite o valor do cateto oposto: 8\n",
            "Digite o valor do catedo adjacente: 3\n",
            "O comprimento da hipotenusa do triangulo retangulo é 8.54\n"
          ],
          "name": "stdout"
        }
      ]
    },
    {
      "cell_type": "code",
      "metadata": {
        "colab": {
          "base_uri": "https://localhost:8080/"
        },
        "id": "YiUyoF0fNwiO",
        "outputId": "fe2dd2ed-998e-402e-ee1d-9950d05b9b8d"
      },
      "source": [
        "#Exercício 018 - Faça um programa que leia um ângulo qualquer e mostre na tela o valor do seno, cosseno e tangente desse ângulo.\n",
        "import math\n",
        "a = float(input('Digite o angulo para calcular o seno e o cosseno: '))\n",
        "s = math.sin(math.radians(a))\n",
        "c = math.cos(math.radians(a))\n",
        "t = math.tan(math.radians(a))\n",
        "print('Para o angulo de {}\\nO seno será {:.2f}\\nO cosseno será {:.2f}\\nA tangente será {:.2f}'.format(a, s, c, t))"
      ],
      "execution_count": null,
      "outputs": [
        {
          "output_type": "stream",
          "text": [
            "Digite o angulo para calcular o seno e o cosseno: 30\n",
            "Para o angulo de 30.0\n",
            "O seno será 0.50\n",
            "O cosseno será 0.87\n",
            "A tangente será 0.58\n"
          ],
          "name": "stdout"
        }
      ]
    },
    {
      "cell_type": "code",
      "metadata": {
        "id": "B8SDc0_cRRBe",
        "colab": {
          "base_uri": "https://localhost:8080/"
        },
        "outputId": "2448b2f9-f1e1-486e-c6f3-53a9442cec22"
      },
      "source": [
        "#Exercício 019 - Um professor quer sortear um dos seus quatro alunos para apagar o quadro. Faça um programa que ajude ele, lendo o nome dos alunos e escrevendo na tela o nome do escolhido.\n",
        "import random\n",
        "a1 = input('Digite o nome do aluno: ')\n",
        "a2 = input('Digite o nome do aluno: ')\n",
        "a3 = input('Digite o nome do aluno: ')\n",
        "a4 = input('Digite o nome do aluno: ')\n",
        "sorteio = [a1, a2, a3, a4]\n",
        "escolhido = random.choice(sorteio)\n",
        "print('O aluno escolhido foi {}'.format(escolhido))"
      ],
      "execution_count": null,
      "outputs": [
        {
          "output_type": "stream",
          "text": [
            "Digite o nome do aluno: Ariane\n",
            "Digite o nome do aluno: Arhutr\n",
            "Digite o nome do aluno: Daniel\n",
            "Digite o nome do aluno: Miguel\n",
            "O aluno escolhido foi Ariane\n"
          ],
          "name": "stdout"
        }
      ]
    },
    {
      "cell_type": "code",
      "metadata": {
        "colab": {
          "base_uri": "https://localhost:8080/"
        },
        "id": "RQFtRNih1gz4",
        "outputId": "0a9932cc-b644-419e-d3b8-5a0a8fe32ed4"
      },
      "source": [
        "#Exercício 020 - O mesmo professor do desafio 19 quer sortear a ordem de apresentação de trabalhos dos alunos. Faça um programa que leia o nome dos quatro alunos e mostre a ordem sorteada.\n",
        "from random import shuffle\n",
        "a1 = input('Digite o nome do aluno: ')\n",
        "a2 = input('Digite o nome do aluno: ')\n",
        "a3 = input('Digite o nome do aluno: ')\n",
        "a4 = input('Digite o nome do aluno: ')\n",
        "lista = [a1, a2, a3, a4]\n",
        "shuffle(lista)\n",
        "print('A ordem de apresentação será {}'.format(lista))"
      ],
      "execution_count": null,
      "outputs": [
        {
          "output_type": "stream",
          "text": [
            "Digite o nome do aluno: Thiago\n",
            "Digite o nome do aluno: Camila\n",
            "Digite o nome do aluno: Livia\n",
            "Digite o nome do aluno: Arthur\n",
            "A ordem de apresentação será ['Arthur', 'Thiago', 'Camila', 'Livia']\n"
          ],
          "name": "stdout"
        }
      ]
    },
    {
      "cell_type": "code",
      "metadata": {
        "id": "NCaJ5AXD2Ube"
      },
      "source": [
        "#Exercício 021 - Faça um programa em Python que abra e reproduza o áudio de um arquivo MP3.\n",
        "#SÓ É POSSÍVEL REALIZAR O EXERCÍCIO EM UMA IDE PQ TEM QUE INSTALAR A BIBLIOTECA PYGAME\n",
        "\n",
        "#import pygame\n",
        "#pygame.mixer.init()\n",
        "#pygame.init()\n",
        "#pygame.mixer.music.load('McPoze.mp3')\n",
        "#pygame.music.play()\n",
        "#pygame.event.wait()"
      ],
      "execution_count": null,
      "outputs": []
    },
    {
      "cell_type": "code",
      "metadata": {
        "colab": {
          "base_uri": "https://localhost:8080/"
        },
        "id": "IB25kZ6SDOHL",
        "outputId": "a880d63f-0f67-4a49-cf93-a30529e91789"
      },
      "source": [
        "#Exercício 022 - Crie um programa que leia o nome completo de uma pessoa e mostre:\n",
        "\n",
        "#– O nome com todas as letras maiúsculas e minúsculas.\n",
        "nome = str(input('Digite o nome: ')).strip()\n",
        "print('Nome com todas letras maúsculas: {}'.format(nome.upper()))\n",
        "print('Nome com todas letras mainúsculas: {}'.format(nome.lower()))\n",
        "\n",
        "#– Quantas letras ao todo (sem considerar espaços).\n",
        "print('Seu nome tem {} letras sem considerar os espaços'.format(len(nome) - nome.count(' ')))\n",
        "\n",
        "#– Quantas letras tem o primeiro nome.\n",
        "separa = nome.split()\n",
        "print('Seu primeiro nome tem {} letras.'.format(len(separa[0])))\n"
      ],
      "execution_count": null,
      "outputs": [
        {
          "output_type": "stream",
          "text": [
            "Digite o nome: Arthur Silva Bellas\n",
            "Nome com todas letras maúsculas: ARTHUR SILVA BELLAS\n",
            "Nome com todas letras mainúsculas: arthur silva bellas\n",
            "Seu nome tem 17 letras sem considerar os espaços\n",
            "Seu primeiro nome tem 6 letras.\n"
          ],
          "name": "stdout"
        }
      ]
    },
    {
      "cell_type": "code",
      "metadata": {
        "colab": {
          "base_uri": "https://localhost:8080/"
        },
        "id": "dgzO9t0DxzCO",
        "outputId": "00cf332d-30a9-456a-83cb-1cd8544206aa"
      },
      "source": [
        "#Exercício 023 - Faça um programa que leia um número de 0 a 9999 e mostre na tela cada um dos dígitos separados.\n",
        "n = int(input('Digite um número: '))\n",
        "m = n // 1000 % 10\n",
        "c = n // 100 % 10\n",
        "d = n // 10 % 10\n",
        "u = n // 1 % 10\n",
        "print('Milhar: {}'.format(m))\n",
        "print('Centena: {}'.format(c))\n",
        "print('Dezena: {}'.format(d))\n",
        "print('Unidade: {}'.format(u))"
      ],
      "execution_count": null,
      "outputs": [
        {
          "output_type": "stream",
          "text": [
            "Digite um número: 23\n",
            "Milhar: 0\n",
            "Centena: 0\n",
            "Dezena: 2\n",
            "Unidade: 3\n"
          ],
          "name": "stdout"
        }
      ]
    },
    {
      "cell_type": "code",
      "metadata": {
        "colab": {
          "base_uri": "https://localhost:8080/"
        },
        "id": "RPziOMxP5hwC",
        "outputId": "328e2ddd-779c-49ac-da51-3ee6bce18bf7"
      },
      "source": [
        "#Exercício 024 - Crie um programa que leia o nome de uma cidade diga se ela começa ou não com o nome “SANTO”.\n",
        "cid = str(input('Em que cidade você nasceu? ')).strip()\n",
        "if cid[:5].upper() == 'SANTO':\n",
        "  print('Sua cidade começa com SANTO')\n",
        "else:\n",
        "  print('Sua cidade não começa com SANTO')"
      ],
      "execution_count": null,
      "outputs": [
        {
          "output_type": "stream",
          "text": [
            "Em que cidade você nasceu? Santo Amaro\n",
            "Sua cidade começa com SANTO\n"
          ],
          "name": "stdout"
        }
      ]
    },
    {
      "cell_type": "code",
      "metadata": {
        "colab": {
          "base_uri": "https://localhost:8080/"
        },
        "id": "8aouYSqlESWP",
        "outputId": "e01df4b1-c1a6-4b42-ed97-5580341db53d"
      },
      "source": [
        "#Excercício 025 - Crie um programa que leia o nome de uma pessoa e diga se ela tem “SILVA” no nome.\n",
        "nome = str(input('Digite o seu nome: ')).strip()\n",
        "print('Tem Silva no seu nome? {}'.format('SILVA' in nome.upper()))"
      ],
      "execution_count": null,
      "outputs": [
        {
          "output_type": "stream",
          "text": [
            "Digite o seu nome: antonio silva santos\n",
            "Tem Silva no seu nome? True\n"
          ],
          "name": "stdout"
        }
      ]
    },
    {
      "cell_type": "code",
      "metadata": {
        "colab": {
          "base_uri": "https://localhost:8080/"
        },
        "id": "l1yQT7RMF_7z",
        "outputId": "69689fb3-1f17-40a5-a32d-fb6c3deab04a"
      },
      "source": [
        "#Excercício 026 - Faça um programa que leia uma frase pelo teclado e mostre quantas vezes aparece a letra “A”, em que posição ela aparece a primeira vez e em que posição ela aparece a última vez.\n",
        "#Quantas vezes aparece a letra 'A'\n",
        "#Em qual posição ela aparece a primeira vez\n",
        "#Em qual posição ela aparece pea última vez\n",
        "\n",
        "#Quantas vezes aparece a letra 'A'\n",
        "frase = str(input('Digite uma frase: ')).upper()\n",
        "print('Sua frase tem {} As'.format(frase.count('A')))\n",
        "\n",
        "#Em qual posição ela aparece a primeira vez\n",
        "print('A letra A aparece na posição {}'.format(frase.find('A')+1))\n",
        "\n",
        "#Em qual posição ela aparece pea última vez\n",
        "print('A letra A aparece na posição {} pela última vez'.format(frase.rfind('A')+1))"
      ],
      "execution_count": null,
      "outputs": [
        {
          "output_type": "stream",
          "text": [
            "Digite uma frase: Está um lindo dia de Sol\n",
            "Sua frase tem 1 As\n",
            "A letra A aparece na posição 17\n",
            "A letra A aparece na posição 17 pela última vez\n"
          ],
          "name": "stdout"
        }
      ]
    },
    {
      "cell_type": "code",
      "metadata": {
        "id": "Ww2jgsebIt69",
        "colab": {
          "base_uri": "https://localhost:8080/"
        },
        "outputId": "5143e971-a438-4d30-9e05-113da75b1928"
      },
      "source": [
        "#Exercício 027 - Faça um programa que leia o nome completo de uma pessoa, mostrando em seguida o primeiro e o último nome separadamente.\n",
        "nome = str(input('Digite o seu nome: ')).strip()\n",
        "print('Muito prazer em conheçer!')\n",
        "separa = nome.split()\n",
        "print('O seu primeiro nome é: {}'.format(separa[0]))\n",
        "print('O seu último nome é: {}'.format(separa[len(separa)-1]))"
      ],
      "execution_count": null,
      "outputs": [
        {
          "output_type": "stream",
          "text": [
            "Digite o seu nome: Edson Thiago Rodrigues Bellas\n",
            "Muito prazer em conheçer!\n",
            "O seu primeiro nome é: Edson\n",
            "O seu último nome é: Bellas\n"
          ],
          "name": "stdout"
        }
      ]
    },
    {
      "cell_type": "code",
      "metadata": {
        "colab": {
          "base_uri": "https://localhost:8080/"
        },
        "id": "FBisBsUuWASA",
        "outputId": "1d17ba20-e734-4b3b-8dab-167840ff9e96"
      },
      "source": [
        "#Exercício 028 - Escreva um programa que faça o computador \"pensar\" em um número inteiro entre 0 e 5\n",
        "# e peça para o usuário tentar descobrir qual foi o número escolhido pelo computador.\n",
        "# O programa deverá escrever na tela se o usuário venceu ou perdeu.\n",
        "\n",
        "from random import randint\n",
        "\n",
        "computador = randint(0, 10)\n",
        "print('---' * 20)\n",
        "print('Vou pensar em um número... Tente adivinhar!')\n",
        "print('---' * 20)\n",
        "jogador = int(input('Em que número eu pensei? '))\n",
        "if jogador == computador:\n",
        "  print('Acertou!!! És o maior!!!')\n",
        "else:\n",
        "  print('Errou, pensei no número {}'.format(computador))"
      ],
      "execution_count": null,
      "outputs": [
        {
          "output_type": "stream",
          "text": [
            "------------------------------------------------------------\n",
            "Vou pensar em um número... Tente adivinhar!\n",
            "------------------------------------------------------------\n",
            "Em que número eu pensei? 5\n",
            "Acertou!!! És o maior!!!\n"
          ],
          "name": "stdout"
        }
      ]
    },
    {
      "cell_type": "code",
      "metadata": {
        "colab": {
          "base_uri": "https://localhost:8080/"
        },
        "id": "xn6PFdzDZ8Re",
        "outputId": "58b3daed-b27f-46cf-af6a-6e2be29dfb3d"
      },
      "source": [
        "#Exercício 029 - Escreva um programa que leia a velocidade de um carro. \n",
        "#Se ele ultrapassar 80Km/h mostre uma mensagem dizendo que ele foi multado. A multa vai custar R$7,00 por cada Km acima do limite.\n",
        "\n",
        "from random import randint\n",
        "\n",
        "radar = randint(0, 230)\n",
        "print(radar)\n",
        "lim = 80\n",
        "dif = radar - lim\n",
        "if radar > lim:\n",
        "  multa = dif * 7\n",
        "  print('O limite de velocidade é de 80km/h, você passou a {}km/h, foi multado em {} reais!!'.format(radar, multa))\n",
        "else:\n",
        "  print('Sua velocidade registrada foi de {}km/h. Parabéns por respeitar o limite de velocidade abaixo de 80km/h'.format(radar))"
      ],
      "execution_count": null,
      "outputs": [
        {
          "output_type": "stream",
          "text": [
            "182\n",
            "O limite de velocidade é de 80km/h, você passou a 182km/h, foi multado em 714 reais!!\n"
          ],
          "name": "stdout"
        }
      ]
    },
    {
      "cell_type": "code",
      "metadata": {
        "colab": {
          "base_uri": "https://localhost:8080/"
        },
        "id": "x1_BpwZjlaU0",
        "outputId": "5b4cde06-cb71-4c0a-9a2f-d5ac3a68d7a9"
      },
      "source": [
        "#Exercício 030 - Crie um programa que leia um número inteiro e mostre na tela se ele é PAR ou ÍMPAR.\n",
        "n = int(input('Digite qualquer número: '))\n",
        "x = n % 2\n",
        "if x == 0:\n",
        "  print('O número {} é PAR.'.format(n))\n",
        "else:\n",
        "  print('O número {} é IMPAR'.format(n))"
      ],
      "execution_count": null,
      "outputs": [
        {
          "output_type": "stream",
          "text": [
            "Digite qualquer número: 49823\n",
            "O número 49823 é IMPAR\n"
          ],
          "name": "stdout"
        }
      ]
    },
    {
      "cell_type": "code",
      "metadata": {
        "colab": {
          "base_uri": "https://localhost:8080/"
        },
        "id": "OsgOhx24rbEo",
        "outputId": "a09d04ba-68ea-45d3-e6af-c0cc81261215"
      },
      "source": [
        "#Exercício 031 - Desenvolva um programa que pergunte a distância de uma viagem em Km. \n",
        "#Calcule o preço da passagem, cobrando R$0,50 por Km para viagens de até 200Km e R$0,45 parta viagens mais longas.\n",
        "\n",
        "distancia = int(input('Qual a distancia em KMs do trajeto da viagem? '))\n",
        "\n",
        "vc = 0.50\n",
        "vl = 0.45\n",
        "\n",
        "if distancia < 200:\n",
        "  cal1 = distancia * vc\n",
        "  print('Para uma viagem de {} kms, o custo total da viagem será de {:.2f} reais, sendo {:.2f} por km percorrido'.format(distancia, cal1, vc))\n",
        "else:\n",
        "  cal2 = distancia * vl\n",
        "  print('Para uma viagem de {} kms, o custo total da viagem será de {:.2f} reais, sendo {:.2f} por km percorrido'.format(distancia, cal2, vl))\n"
      ],
      "execution_count": null,
      "outputs": [
        {
          "output_type": "stream",
          "text": [
            "Qual a distancia em KMs do trajeto da viagem? 100\n",
            "Para uma viagem de 100 kms, o custo total da viagem será de 50.00 reais, sendo 0.50 por km percorrido\n"
          ],
          "name": "stdout"
        }
      ]
    },
    {
      "cell_type": "code",
      "metadata": {
        "id": "lwAv9rUtt4q_",
        "colab": {
          "base_uri": "https://localhost:8080/"
        },
        "outputId": "b4ffe1b1-1210-441c-8843-33ebef368194"
      },
      "source": [
        "#Exercício 032 - Faça um programa que leia um ano qualquer e mostre se ele é bissexto.\n",
        "\n",
        "import time\n",
        "\n",
        "ano = int(input('Digite o ano que deseja saber se é bisexto: '))\n",
        "print('PROCESSANDO....')\n",
        "time.sleep(3)\n",
        "if ano % 4 == 0 and ano % 100 != 0 or ano % 400 ==0:\n",
        "  print('O ano {} é um ano BISSEXTO!'.format(ano))\n",
        "else:\n",
        "  print('O ano {} não é um ano BISSEXTO'.format(ano))"
      ],
      "execution_count": null,
      "outputs": [
        {
          "output_type": "stream",
          "text": [
            "Digite o ano que deseja saber se é bisexto: 2019\n",
            "PROCESSANDO....\n",
            "O ano 2019 não é um ano BISSEXTO\n"
          ],
          "name": "stdout"
        }
      ]
    },
    {
      "cell_type": "code",
      "metadata": {
        "id": "ZnyLjNxSu77E",
        "colab": {
          "base_uri": "https://localhost:8080/"
        },
        "outputId": "e8615375-20aa-43e0-c42c-70f7fe65f5dd"
      },
      "source": [
        "#Exercício 033​ - Faça um programa que leia três números e mostre qual é o maior e qual é o menor.\n",
        "v1 = int(input('Primeiro valor: '))\n",
        "v2 = int(input('Segundo valor: '))\n",
        "v3 = int(input('Terceiro valor: '))\n",
        "\n",
        "#Verificar o menor valor\n",
        "menor = v1\n",
        "if v2 < v1 and v2 < v3:\n",
        "  menor = v2\n",
        "if v3 < v1 and v3 < v2:\n",
        "  menor = v3\n",
        "print('O menor valor é {}'.format(menor))\n",
        "\n",
        "#Verificar o maior valor\n",
        "maior = v1\n",
        "if v2 > v1 and v2 > v3:\n",
        "  maior = v2\n",
        "if v3 > v1 and v3 > v2:\n",
        "  maior = v3\n",
        "print('O maior valor é {}'.format(maior))\n"
      ],
      "execution_count": null,
      "outputs": [
        {
          "output_type": "stream",
          "text": [
            "Primeiro valor: 1\n",
            "Segundo valor: 2\n",
            "Terceiro valor: 3\n",
            "O menor valor é 1\n",
            "O maior valor é 3\n"
          ],
          "name": "stdout"
        }
      ]
    },
    {
      "cell_type": "code",
      "metadata": {
        "id": "S6ZyY2xRvSug",
        "colab": {
          "base_uri": "https://localhost:8080/"
        },
        "outputId": "6125d611-faca-42d8-e739-3553aa308eca"
      },
      "source": [
        "#Exercício 034​ - Escreva um programa que pergunte o salário de um funcionário e calcule o valor do seu aumento. \n",
        "# Para salários superiores a R$1250,00, calcule um aumento de 10%. Para os inferiores ou iguais, o aumento é de 15%.\n",
        "\n",
        "sal = float(input('Qual o seu salário: '))\n",
        "if sal > 1250.00:\n",
        "  salnovo = (sal * 0.10) + sal\n",
        "  print('Seu novo salário foi reajustado em 10% passando de {:.2f} para {:.2f} este mês'.format(sal, salnovo))\n",
        "else:\n",
        "  salnovo = (sal * 0.15) + sal\n",
        "  print('Seu novo salário foi reajustado em 15% passando de {:.2f} para {:.2f} este mês'.format(sal, salnovo))\n",
        "\n",
        "\n"
      ],
      "execution_count": null,
      "outputs": [
        {
          "output_type": "stream",
          "text": [
            "Qual o seu salário: 1251\n",
            "Seu novo salário foi reajustado em 10% passando de 1251.00 para 1376.10 este mês\n"
          ],
          "name": "stdout"
        }
      ]
    },
    {
      "cell_type": "code",
      "metadata": {
        "id": "_LUOYLlDvrXr",
        "colab": {
          "base_uri": "https://localhost:8080/"
        },
        "outputId": "08305d81-361b-46f7-d43c-3d9e100660df"
      },
      "source": [
        "#Exercício 035 - Desenvolva um programa que leia o comprimento de três retas e diga ao usuário se elas podem ou não formar um triângulo.\n",
        "\n",
        "a = float(input('Primeira reta: '))\n",
        "b = float(input('Segunda reta: '))\n",
        "c = float(input('Terceira reta: '))\n",
        "\n",
        "if a < b + c and b < a + c and c < a + b:\n",
        "  print('Os segmentos acima podem formar TRIANGULO')\n",
        "else:\n",
        "  print('Os segmentos acima não podem formar TRIANGULO')"
      ],
      "execution_count": null,
      "outputs": [
        {
          "output_type": "stream",
          "text": [
            "Primeira reta: 32321\n",
            "Segunda reta: 1231231313123\n",
            "Terceira reta: 31232131231313123123\n",
            "Os segmentos acima não podem formar TRIANGULO\n"
          ],
          "name": "stdout"
        }
      ]
    },
    {
      "cell_type": "code",
      "metadata": {
        "colab": {
          "base_uri": "https://localhost:8080/"
        },
        "id": "Gl6twg138hN-",
        "outputId": "6e2c542b-dd02-4c7a-e98f-577928caffaf"
      },
      "source": [
        "#Exercício 036 - Escreva um programa para aprovar o empréstimo bancário para a compra de uma casa.\n",
        "#Pergunte o valor da casa, o salário do comprador e em quantos anos ele vai pagar.\n",
        "#A prestação mensal não pode exceder 30% do salário ou então o empréstimo será negado.\n",
        "\n",
        "valor = float(input('Qual o valor do imóvel? '))\n",
        "salario = float(input('Qual o salário mensal? '))\n",
        "prazo = int(input('Quantos anos de financiamento? '))\n",
        "prestação = valor / (prazo * 12)\n",
        "avaliação = salario * 0.30\n",
        "\n",
        "if avaliação < prestação:\n",
        "  print('O valor da prestação excede 30% do salario declarado, empréstimo recusado')\n",
        "else:\n",
        "  print('O empréstimo de {} foi aprovado, sendo uma prestação de {} reais durante {} meses'.format(valor, prestação, prazo))\n"
      ],
      "execution_count": null,
      "outputs": [
        {
          "output_type": "stream",
          "text": [
            "Qual o valor do imóvel? 15000\n",
            "Qual o salário mensal? 10000\n",
            "Quantos anos de financiamento? 20\n",
            "O empréstimo de 15000.0 foi aprovado, sendo uma prestação de 62.5 reais durante 20 meses\n"
          ],
          "name": "stdout"
        }
      ]
    },
    {
      "cell_type": "code",
      "metadata": {
        "colab": {
          "base_uri": "https://localhost:8080/"
        },
        "id": "1djmOPkUkqtJ",
        "outputId": "5913ff80-e548-4755-e7b7-9a7ee93c71df"
      },
      "source": [
        "#Exercício 037 - Escreva um programa em Python que leia um número inteiro qualquer e peça para o usuário escolher qual será a base de conversão:\n",
        "#1 para binário, 2 para octal e 3 para hexadecimal.\n",
        "\n",
        "numero = int(input('Digite um número: '))\n",
        "print('''Escolha qual tipo de conversão deseja\n",
        "1 - Binário\n",
        "2 - Octal\n",
        "3 - Hexadecimal''')\n",
        "opção = int(input('Sua opção: '))\n",
        "\n",
        "if opção == 1:\n",
        "  print('{} convertido em BINÁRIO é {}'.format(numero, bin(numero)[2:]))\n",
        "elif opção == 2:\n",
        "  print('{} convertido em OCTAL é {}'.format(numero, oct(numero)[2:]))\n",
        "elif opção == 3:\n",
        "  print('{} convertido em HEXADECIMAL é {}'.format(numero, hex(numero)[2:]))\n",
        "else:\n",
        "  print('Opção inválida, tente novamente.')"
      ],
      "execution_count": null,
      "outputs": [
        {
          "output_type": "stream",
          "text": [
            "Digite um número: 321\n",
            "Escolha qual tipo de conversão deseja\n",
            "1 - Binário\n",
            "2 - Octal\n",
            "3 - Hexadecimal\n",
            "Sua opção: 2\n",
            "321 convertido em OCTAL é 501\n"
          ],
          "name": "stdout"
        }
      ]
    },
    {
      "cell_type": "code",
      "metadata": {
        "colab": {
          "base_uri": "https://localhost:8080/"
        },
        "id": "xidhQwOWDjdq",
        "outputId": "18b38153-0ede-42c7-d4b8-bd7368cddabd"
      },
      "source": [
        "#Exercício 038 - Escreva um programa que leia dois números inteiros e compare-os. mostrando na tela uma mensagem:\n",
        "# - O primeiro valor é maior\n",
        "# - O segundo valor é maior\n",
        "# - Não existe valor maior, os dois são iguais\n",
        "\n",
        "num1 = int(input('Digite o primeiro valor: '))\n",
        "num2 = int(input('Digite o segundo valor: '))\n",
        "if num1 > num2:\n",
        "  print('O PRIMEIRO número é maior')\n",
        "elif num2 > num1:\n",
        "  print('O SEGUNDO número é maior')\n",
        "elif num1 == num2:\n",
        "  print('Não existe valor maior, os dois são iguais')"
      ],
      "execution_count": null,
      "outputs": [
        {
          "output_type": "stream",
          "text": [
            "Digite o primeiro valor: 3\n",
            "Digite o segundo valor: 1\n",
            "O PRIMEIRO número é maior\n"
          ],
          "name": "stdout"
        }
      ]
    },
    {
      "cell_type": "code",
      "metadata": {
        "colab": {
          "base_uri": "https://localhost:8080/"
        },
        "id": "y3UqAwCpFr7G",
        "outputId": "c75feba5-51a3-41a0-d9d9-6865abb74244"
      },
      "source": [
        "#Exercício 039 - Faça um programa que leia o ano de nascimento de um jovem\n",
        "# e informe, de acordo com a sua idade, se ele ainda vai se alistar ao serviço militar, se é a hora exata de se alistar ou se já passou do tempo do alistamento.\n",
        "#Seu programa também deverá mostrar o tempo que falta ou que passou do prazo.\n",
        "\n",
        "import datetime\n",
        "\n",
        "ano = int(input('Informe o seu ano de nascimento: '))\n",
        "ano2 = datetime.date.today().year\n",
        "limite = 18\n",
        "idade = ano2 - ano\n",
        "if idade <= 17:\n",
        "  falta = 18 - idade\n",
        "  print('Você tem {} anos, ainda falta {} para se alistar'.format(idade, falta))\n",
        "else:\n",
        "  falta = idade - 18\n",
        "  print('Você tem {} anos, já deveria ter se alistado há {} anos'.format(idade, falta))"
      ],
      "execution_count": null,
      "outputs": [
        {
          "output_type": "stream",
          "text": [
            "Informe o seu ano de nascimento: 2016\n",
            "Você tem 5 anos, ainda falta 13 para se alistar\n"
          ],
          "name": "stdout"
        }
      ]
    },
    {
      "cell_type": "code",
      "metadata": {
        "colab": {
          "base_uri": "https://localhost:8080/"
        },
        "id": "cnXJ5AQ4G4Qs",
        "outputId": "88ccdbde-a3b1-45c4-c1db-8d7e31339eba"
      },
      "source": [
        "#Exercício 040 - Crie um programa que leia duas notas de um aluno e calcule sua média, mostrando uma mensagem no final, de acordo com a média atingida:\n",
        "# - Média abaixo de 5.0: REPROVADO\n",
        "# - Média entre 5.0 e 6.9: RECUPERAÇÃO\n",
        "# - Média 7.0 ou superior: APROVADO\n",
        "\n",
        "n1 = float(input('Primeira nota: '))\n",
        "n2 = float(input('Segunda nota: '))\n",
        "média = (n1 + n2) / 2\n",
        "if média < 5.0:\n",
        "  print('média igual a {:.1f}, REPROVADO.'.format(média))\n",
        "elif média >= 5.0 and média <= 6.9:\n",
        "  print('média igual a {:.1f}, RECUPERAÇÃO.'.format(média))\n",
        "elif média >= 7.0:\n",
        "  print('média igual a {:.1f}, APROVADO.'.format(média))"
      ],
      "execution_count": null,
      "outputs": [
        {
          "output_type": "stream",
          "text": [
            "Primeira nota: 7\n",
            "Segunda nota: 9\n",
            "média igual a 8.0, APROVADO.\n"
          ],
          "name": "stdout"
        }
      ]
    },
    {
      "cell_type": "code",
      "metadata": {
        "colab": {
          "base_uri": "https://localhost:8080/"
        },
        "id": "VT_t2lhfMYKv",
        "outputId": "0c1d1730-898f-4d14-87f0-83cb48746acb"
      },
      "source": [
        "#Exercício 041 - A Confederação Nacional de Natação precisa de um programa que leia o ano de nascimento de um atleta e mostre sua categoria, de acordo com a idade:\n",
        "# - Até 9 anos: MIRIM\n",
        "# - Até 14 anos: INFANTIL\n",
        "# - Até 19 anos: JÚNIOR\n",
        "# - Até 25 anos: SÊNIOR\n",
        "# - Acima de 25 anos: MASTER\n",
        "\n",
        "import datetime\n",
        "\n",
        "ano = int(input('Qual o ano de nascimento do atleta? '))\n",
        "idade = datetime.date.today().year - ano\n",
        "if idade <=9:\n",
        "  print('Categoria do atleta: MIRIM')\n",
        "elif idade >= 10 and idade <=14:\n",
        "  print('Categoria do atleta: INFANTIL')\n",
        "elif idade >= 15 and idade <=19:\n",
        "  print('Categoria do atleta: JÚNIOR')\n",
        "elif idade >= 20 and idade <=25:\n",
        "  print('Categoria do atleta: SÉNIOR')\n",
        "else:\n",
        "  print('Categoria do atleta: MASTER')\n"
      ],
      "execution_count": null,
      "outputs": [
        {
          "output_type": "stream",
          "text": [
            "Qual o ano de nascimento do atleta? 2016\n",
            "Categoria do atleta: MIRIM\n"
          ],
          "name": "stdout"
        }
      ]
    },
    {
      "cell_type": "code",
      "metadata": {
        "colab": {
          "base_uri": "https://localhost:8080/"
        },
        "id": "DJgAabwmN7jg",
        "outputId": "0153041f-7437-448a-f956-488f059c9e0b"
      },
      "source": [
        "#Exercício 042 - Refaça o DESAFIO 035 dos triângulos, acrescentando o recurso de mostrar que tipo de triângulo será formado:\n",
        "# - EQUILÁTERO: todos os lados iguais\n",
        "# - ISÓSCELES: dois lados iguais, um diferente\n",
        "# - ESCALENO: todos os lados diferentes\n",
        "\n",
        "a = float(input('Primeira reta: '))\n",
        "b = float(input('Segunda reta: '))\n",
        "c = float(input('Terceira reta: '))\n",
        "\n",
        "if a < b + c and b < a + c and c < a + b:\n",
        "  print('Os segmentos acima podem formar TRIANGULO', end=' ')\n",
        "  if a == b == c:\n",
        "    print('EQUILÁTERO')\n",
        "  elif a != b != c != a:\n",
        "    print('ESCALENO')\n",
        "  else:\n",
        "    print('ESCALENO')\n",
        "else:\n",
        "  print('Os segmentos acima não podem formar TRIANGULO')"
      ],
      "execution_count": null,
      "outputs": [
        {
          "output_type": "stream",
          "text": [
            "Primeira reta: 4\n",
            "Segunda reta: 3\n",
            "Terceira reta: 4\n",
            "Os segmentos acima podem formar TRIANGULO ESCALENO\n"
          ],
          "name": "stdout"
        }
      ]
    },
    {
      "cell_type": "code",
      "metadata": {
        "colab": {
          "base_uri": "https://localhost:8080/"
        },
        "id": "yrXGvVEVSmQT",
        "outputId": "4d49a0a2-3b65-4101-dfd3-5689a4a4658e"
      },
      "source": [
        "#Exercício 043 - Desenvolva uma lógica que leia o peso e a altura de uma pessoa, calcule seu Índice de Massa Corporal (IMC) e mostre seu status, de acordo com a tabela abaixo:\n",
        "# - IMC abaixo de 18,5: Abaixo do Peso\n",
        "# - Entre 18,5 e 25: Peso Ideal\n",
        "# - 25 até 30: Sobrepeso\n",
        "# - 30 até 40: Obesidade\n",
        "# - Acima de 40: Obesidade Mórbida\n",
        "\n",
        "a = float(input('Digite sua altura: '))\n",
        "p = float(input('Digite seu peso: '))\n",
        "imc = p / (a * a)\n",
        "if imc > 40:\n",
        "  print('Seu IMC atual é {:.1f}, está com obesidade morbida'.format(imc))\n",
        "elif imc <= 40 and imc >= 30:\n",
        "  print('Seu IMC atual é {:.1f}, está com obesidade'.format(imc))\n",
        "elif imc <= 30 and imc >= 25:\n",
        "  print('Seu IMC atual é {:.1f}, está com sobrepeso'.format(imc))\n",
        "elif imc <= 25 and imc >= 18.5:\n",
        "  print('Seu IMC atual é {:.1f}, está no peso ideal'.format(imc))\n",
        "else:\n",
        "   print('Seu IMC atual é {:.1f}, abaixo do peso'.format(imc))"
      ],
      "execution_count": null,
      "outputs": [
        {
          "output_type": "stream",
          "text": [
            "Digite sua altura: 1.63\n",
            "Digite seu peso: 74\n",
            "Seu IMC atual é 27.9, está com sobrepeso\n"
          ],
          "name": "stdout"
        }
      ]
    },
    {
      "cell_type": "code",
      "metadata": {
        "colab": {
          "base_uri": "https://localhost:8080/"
        },
        "id": "9kmFq54WTe8V",
        "outputId": "f1f4bc92-6e99-4ea3-c4e9-ad19959eea0e"
      },
      "source": [
        "#Exercício 044 -  Elabore um programa que calcule o valor a ser pago por um produto, considerando o seu preço normal e condição de pagamento:\n",
        "# - à vista dinheiro/cheque: 10% de desconto\n",
        "# - à vista no cartão: 5% de desconto\n",
        "# - em até 2x no cartão: preço formal\n",
        "# - 3x ou mais no cartão: 20% de juros\n",
        "\n",
        "print('========== Pague Menos =============')\n",
        "\n",
        "compras = float(input('Valor total das compras: '))\n",
        "print('''Opções de pagamento\n",
        "1 - À vista dinheiro ou cheque\n",
        "2 - À vista no cartão\n",
        "3 - Em até 2x no cartão\n",
        "4 - 3x ou mais no cartão''')\n",
        "opção = int(input('Escolha como quer pagar:'))\n",
        "if opção == 1:\n",
        "  total = compras - (compras * 0.10)\n",
        "  print('Pagamento a vista dinheiro ou cheque tem 10% de desconto, neste caso o total a pagar será {:.2f} reais'.format(total))\n",
        "elif opção == 2:\n",
        "  total = compras - (compras * 0.05)\n",
        "  print('Pagamento a vista no cartão tem 5% de desconto, neste caso o total a pagar será {:.2f} reais'.format(total))\n",
        "elif opção == 3:\n",
        "  total = compras / 2\n",
        "  print('Pagamento em 2x no cartão, o total a pagar por cada parcela será {:.2f} reais'.format(total))\n",
        "elif opção == 4:\n",
        "  total = compras + (compras * 0.20)\n",
        "  print('Pagamento em 3x ou mais no cartão tem juros de 20%, o total a pagar será {:.2f} reais'.format(total))"
      ],
      "execution_count": null,
      "outputs": [
        {
          "output_type": "stream",
          "text": [
            "========== Pague Menos =============\n",
            "Valor total das compras: 1000\n",
            "Opções de pagamento\n",
            "1 - À vista dinheiro ou cheque\n",
            "2 - À vista no cartão\n",
            "3 - Em até 2x no cartão\n",
            "4 - 3x ou mais no cartão\n",
            "Escolha como quer pagar:1\n",
            "Pagamento a vista dinheiro ou cheque tem 10% de desconto, neste caso o total a pagar será 900.00 reais\n"
          ],
          "name": "stdout"
        }
      ]
    },
    {
      "cell_type": "code",
      "metadata": {
        "id": "D36E9sVOW7oi",
        "colab": {
          "base_uri": "https://localhost:8080/"
        },
        "outputId": "ad79bb6a-4fe2-4dca-d5fe-ca766fef39c6"
      },
      "source": [
        "#Exercício 045 - Crie um programa que faça o computador jogar Jokenpô com você.\n",
        "\n",
        "from random import randint\n",
        "from time import sleep\n",
        "\n",
        "itens = ('Pedra', 'Papel', 'Tesoura')\n",
        "print('=' * 20)\n",
        "print('''Opções de jogadas:\n",
        "0 - Pedra\n",
        "1 - Papel\n",
        "2 - Tesoura''')\n",
        "print('=' * 20)\n",
        "player = int(input('Qual a sua jogada? '))\n",
        "comput = randint (0, 2)\n",
        "if player >= 3:\n",
        "  print('Jogada inválida')\n",
        "elif player <=2:\n",
        "  print('JO')\n",
        "  sleep(1)\n",
        "  print('KEN')\n",
        "  sleep(1)\n",
        "  print('PO!!!!!!')\n",
        "  print('=' * 20)\n",
        "if player != 0 and player != 1 and player != 2:\n",
        "  print('Jogada inválida')\n",
        "else:\n",
        "  print('Computador jogou {}'.format(itens[comput]))\n",
        "  print('Jogador jogou {}'.format(itens[player]))\n",
        "\n",
        "print('=' * 20)\n",
        "\n",
        "if comput == 0:\n",
        "  if player == 0:\n",
        "    print('Empate')\n",
        "  elif player == 1:\n",
        "    print('Jogador Vence!!!')\n",
        "  elif player == 2:\n",
        "    print('Computador Vence!!!')\n",
        "  else:\n",
        "    print('Jogada inválida')  \n",
        "\n",
        "elif comput == 1:\n",
        "  if player == 1:\n",
        "    print('Empate')\n",
        "  elif player == 0:\n",
        "    print('Computador Vence!!!')\n",
        "  elif player == 2:\n",
        "    print('Jogador Vence!!!')\n",
        "  else:\n",
        "    print('Jogada inválida') \n",
        "\n",
        "elif comput == 2:\n",
        "  if player == 2:\n",
        "      print('Empate')\n",
        "  elif player == 1:\n",
        "    print('Computador Vence!!!')\n",
        "  elif player == 0:\n",
        "    print('Jogador Vence!!!')\n",
        "  else:\n",
        "    print('Jogada inválida')"
      ],
      "execution_count": null,
      "outputs": [
        {
          "output_type": "stream",
          "text": [
            "====================\n",
            "Opções de jogadas:\n",
            "0 - Pedra\n",
            "1 - Papel\n",
            "2 - Tesoura\n",
            "====================\n",
            "Qual a sua jogada? 2\n",
            "JO\n",
            "KEN\n",
            "PO!!!!!!\n",
            "====================\n",
            "Computador jogou Tesoura\n",
            "Jogador jogou Tesoura\n",
            "====================\n",
            "Empate\n"
          ],
          "name": "stdout"
        }
      ]
    },
    {
      "cell_type": "code",
      "metadata": {
        "colab": {
          "base_uri": "https://localhost:8080/"
        },
        "id": "U-OwZMBivdpw",
        "outputId": "c1c540b9-0ca6-4fef-f94e-77fd6e356104"
      },
      "source": [
        "#Exercício 046 - Faça um programa que mostre na tela uma contagem regressiva para o estouro de fogos de artifício, indo de 10 até 0, com uma pausa de 1 segundo entre eles.\n",
        "\n",
        "from time import sleep\n",
        "for count in range(10, -1, -1):\n",
        "  print(count)\n",
        "  sleep(1)\n",
        "print('BOOM, PLÁ, POOWW!!!')\n"
      ],
      "execution_count": null,
      "outputs": [
        {
          "output_type": "stream",
          "text": [
            "10\n",
            "9\n",
            "8\n",
            "7\n",
            "6\n",
            "5\n",
            "4\n",
            "3\n",
            "2\n",
            "1\n",
            "0\n",
            "BOOM, PLÁ, POOWW!!!\n"
          ],
          "name": "stdout"
        }
      ]
    },
    {
      "cell_type": "code",
      "metadata": {
        "colab": {
          "base_uri": "https://localhost:8080/"
        },
        "id": "-Uwzx6Py6jps",
        "outputId": "28015286-458e-42b5-c51d-1741d76e8f2a"
      },
      "source": [
        "#Exercício 047 - Crie um programa que mostre na tela todos os números pares que estão no intervalo entre 1 e 50.\n",
        "for count in range(2, 51, 2):\n",
        "  print(count, end=' ')"
      ],
      "execution_count": null,
      "outputs": [
        {
          "output_type": "stream",
          "text": [
            "2 4 6 8 10 12 14 16 18 20 22 24 26 28 30 32 34 36 38 40 42 44 46 48 50 "
          ],
          "name": "stdout"
        }
      ]
    },
    {
      "cell_type": "code",
      "metadata": {
        "colab": {
          "base_uri": "https://localhost:8080/"
        },
        "id": "tLa5LHeu8oHh",
        "outputId": "6cb52780-dc72-4a8c-ecc3-598470ffd2ff"
      },
      "source": [
        "#Exercício 048 - Faça um programa que calcule a soma entre todos os números que são múltiplos de três e que se encontram no intervalo de 1 até 500.\n",
        "soma = 0\n",
        "for c in range(1, 501, 2):\n",
        "  if c % 3 == 0:\n",
        "    soma = soma + c\n",
        "    print(soma, end=' ')"
      ],
      "execution_count": null,
      "outputs": [
        {
          "output_type": "stream",
          "text": [
            "3 12 27 48 75 108 147 192 243 300 363 432 507 588 675 768 867 972 1083 1200 1323 1452 1587 1728 1875 2028 2187 2352 2523 2700 2883 3072 3267 3468 3675 3888 4107 4332 4563 4800 5043 5292 5547 5808 6075 6348 6627 6912 7203 7500 7803 8112 8427 8748 9075 9408 9747 10092 10443 10800 11163 11532 11907 12288 12675 13068 13467 13872 14283 14700 15123 15552 15987 16428 16875 17328 17787 18252 18723 19200 19683 20172 20667 "
          ],
          "name": "stdout"
        }
      ]
    },
    {
      "cell_type": "code",
      "metadata": {
        "id": "GZEF-EZt-3xZ",
        "colab": {
          "base_uri": "https://localhost:8080/"
        },
        "outputId": "8630ee33-835a-4e50-b398-b83a8b46880c"
      },
      "source": [
        "#Exercício 49 - Refaça o DESAFIO 9, mostrando a tabuada de um número que o usuário escolher, só que agora utilizando um laço for.\n",
        "\n",
        "from time import sleep\n",
        "\n",
        "num = int(input('Qual tabuada quer estudar? ' ))\n",
        "for count in range(1, 11):\n",
        "  conta = num * count\n",
        "  print('{} x {} = {}'.format(num, count, conta))"
      ],
      "execution_count": null,
      "outputs": [
        {
          "output_type": "stream",
          "text": [
            "Qual tabuada quer estudar? 6\n",
            "6 x 1 = 6\n",
            "6 x 2 = 12\n",
            "6 x 3 = 18\n",
            "6 x 4 = 24\n",
            "6 x 5 = 30\n",
            "6 x 6 = 36\n",
            "6 x 7 = 42\n",
            "6 x 8 = 48\n",
            "6 x 9 = 54\n",
            "6 x 10 = 60\n"
          ],
          "name": "stdout"
        }
      ]
    },
    {
      "cell_type": "code",
      "metadata": {
        "colab": {
          "base_uri": "https://localhost:8080/"
        },
        "id": "su_UzGEft35o",
        "outputId": "19004bff-1554-4689-a731-ab1c99103c53"
      },
      "source": [
        "#Exercício 50 - Desenvolva um programa que leia seis números inteiros e mostre a soma apenas daqueles que forem pares.\n",
        "#Se o valor digitado for ímpar, desconsidere-o.\n",
        "\n",
        "soma = 0\n",
        "count = 0\n",
        "for c in range(1, 7):\n",
        "  num = int(input('Digite o {}º valor: '.format(c)))\n",
        "  if num % 2 == 0:\n",
        "    soma += num\n",
        "    count += 1\n",
        "print('Você informou {} pares, a soma destes números é {}'.format(count, soma))\n"
      ],
      "execution_count": null,
      "outputs": [
        {
          "output_type": "stream",
          "text": [
            "Digite o 1º valor: 2\n",
            "Digite o 2º valor: 1\n",
            "Digite o 3º valor: 4\n",
            "Digite o 4º valor: 3\n",
            "Digite o 5º valor: 5\n",
            "Digite o 6º valor: 7\n",
            "Você informou 2 pares, a soma destes números é 6\n"
          ],
          "name": "stdout"
        }
      ]
    },
    {
      "cell_type": "code",
      "metadata": {
        "id": "ln7SBUb-zKwT",
        "colab": {
          "base_uri": "https://localhost:8080/"
        },
        "outputId": "7f28cd0a-21f4-4085-8022-5d0a6b2f6f62"
      },
      "source": [
        "#Exercício 51 - Desenvolva um programa que leia o primeiro termo e a razão de uma PA. No final, mostre os 10 primeiros termos dessa progressão.\n",
        "\n",
        "print('=' * 38)\n",
        "print('10 Termos de uma Progressão Aritmética')\n",
        "print('=' * 38)\n",
        "\n",
        "ptermo = int(input('Primeiro Termo: '))\n",
        "rzao = int(input('Razão: '))\n",
        "decimo = ptermo + (10 - 1) * rzao\n",
        "for c in range(ptermo, decimo + rzao, rzao):\n",
        "  print('{}'.format(c), end=' » ')\n",
        "print('Acabou!')\n"
      ],
      "execution_count": null,
      "outputs": [
        {
          "output_type": "stream",
          "text": [
            "======================================\n",
            "10 Termos de uma Progressão Aritmética\n",
            "======================================\n",
            "Primeiro Termo: 50\n",
            "Razão: 2\n",
            "50 » 52 » 54 » 56 » 58 » 60 » 62 » 64 » 66 » 68 » Acabou!\n"
          ],
          "name": "stdout"
        }
      ]
    },
    {
      "cell_type": "code",
      "metadata": {
        "colab": {
          "base_uri": "https://localhost:8080/"
        },
        "id": "4KQ7QpaMq7GO",
        "outputId": "4681e9c1-95ba-4e37-a73a-8c7b8002c2f8"
      },
      "source": [
        "#Exercício 52 - Faça um programa que leia um número inteiro e diga se ele é ou não um número primo.\n",
        "\n",
        "n = int(input('Digite um número: '))\n",
        "tot = 0\n",
        "for c in range (1, n + 1):\n",
        "  if n % c == 0:\n",
        "    print('\\033[34m', end = '' )\n",
        "    tot += 1\n",
        "  else:\n",
        "    print('\\033[31m', end = '')\n",
        "  print('{}'.format(c), end = '')\n",
        "print('\\n\\033[30mO número {} foi divisível {} vezes'.format(n, tot))\n",
        "if tot == 2:\n",
        "  print('e é por isso que ele é PRIMO!')\n",
        "else:\n",
        "  print('e por isso ele NÃO É PRIMO')"
      ],
      "execution_count": null,
      "outputs": [
        {
          "output_type": "stream",
          "text": [
            "Digite um número: 2\n",
            "\u001b[34m1\u001b[34m2\n",
            "\u001b[30mO número 2 foi divisível 2 vezes\n",
            "e é por isso que ele é PRIMO!\n"
          ],
          "name": "stdout"
        }
      ]
    },
    {
      "cell_type": "code",
      "metadata": {
        "colab": {
          "base_uri": "https://localhost:8080/"
        },
        "id": "p1Q3EBbfur7Y",
        "outputId": "2f0aeec3-3663-4329-bf07-37bbbb5aafc5"
      },
      "source": [
        "#Exercício 53 - Crie um programa que leia uma frase qualquer e diga se ela é um palíndromo, desconsiderando os espaços.\n",
        "\n",
        "frase = str(input('Digite uma frase: ')).strip().upper() #strip: eliminei os espaços em branco no início e no fim, Upper: converti todo o texto para maiúsculo\n",
        "palavra = frase.split() # dividi a frasa em uma lista\n",
        "junto = ''.join(palavra) # reagrupei as palavras eliminando os espaços no meio\n",
        "inverso = ''\n",
        "for letra in range (len(junto) -1, -1, -1):\n",
        "  inverso += junto[letra]\n",
        "print('O inverso de {} é {}'.format(junto, inverso))\n",
        "if inverso == junto:\n",
        "  print('Temos um palíndromo!')\n",
        "else:\n",
        "  print('A frase digitada não é um palíndromo!')\n",
        "\n"
      ],
      "execution_count": null,
      "outputs": [
        {
          "output_type": "stream",
          "text": [
            "Digite uma frase: a sacada da casa\n",
            "O inverso de ASACADADACASA é ASACADADACASA\n",
            "Temos um palíndromo!\n"
          ],
          "name": "stdout"
        }
      ]
    },
    {
      "cell_type": "code",
      "metadata": {
        "colab": {
          "base_uri": "https://localhost:8080/"
        },
        "id": "WhNQxwGdJmz0",
        "outputId": "616c558b-57bd-47cc-cc41-8bf0f0abdb5d"
      },
      "source": [
        "#Exercício 54 - Crie um programa que leia o ano de nascimento de sete pessoas.\n",
        "#No final, mostre quantas pessoas ainda não atingiram a maioridade e quantas já são maiores.\n",
        "\n",
        "from datetime import date\n",
        "atual = date.today().year\n",
        "totmaior = 0\n",
        "totmenor = 0\n",
        "for pessoas in range(1, 8):\n",
        "  nasc = int(input('Ano de nascimento da pessoa: '))\n",
        "  id = atual - nasc\n",
        "  if id >= 21:\n",
        "    totmaior += 1\n",
        "  else:\n",
        "    totmenor += 1\n",
        "print('Tivemos {} pessoas maiores'.format(totmaior))\n",
        "print('Tivemos {} pessoas menores'.format(totmenor))\n",
        "\n",
        "\n"
      ],
      "execution_count": null,
      "outputs": [
        {
          "output_type": "stream",
          "text": [
            "Ano de nascimento da pessoa: 2000\n",
            "Ano de nascimento da pessoa: 1921\n",
            "Ano de nascimento da pessoa: 2001\n",
            "Ano de nascimento da pessoa: 1922\n",
            "Ano de nascimento da pessoa: 2003\n",
            "Ano de nascimento da pessoa: 1924\n",
            "Ano de nascimento da pessoa: 2005\n",
            "Tivemos 4 pessoas maiores\n",
            "Tivemos 3 pessoas menores\n"
          ],
          "name": "stdout"
        }
      ]
    },
    {
      "cell_type": "code",
      "metadata": {
        "colab": {
          "base_uri": "https://localhost:8080/"
        },
        "id": "pT1E7S_mTbY3",
        "outputId": "62cc6a80-c82f-4e74-9aca-71c597673e73"
      },
      "source": [
        "#Exercício 55 - Faça um programa que leia o peso de cinco pessoas. No final, mostre qual foi o maior e o menor peso lidos.\n",
        "\n",
        "maior = 0\n",
        "menor = 0\n",
        "for p in range(1, 6):\n",
        "  peso = float(input('peso da {} pessoa: '.format(p)))\n",
        "  if p == 1:\n",
        "    maior = peso\n",
        "    menor = peso\n",
        "  else:\n",
        "    if peso > maior:\n",
        "       maior = peso\n",
        "    if peso < menor:\n",
        "       menor = peso\n",
        "print('O maior peso foi {} kg'.format(maior))\n",
        "print('O menor peso foi {} kg'.format(menor))\n"
      ],
      "execution_count": null,
      "outputs": [
        {
          "output_type": "stream",
          "text": [
            "peso da 1 pessoa: 10\n",
            "peso da 2 pessoa: 33\n",
            "peso da 3 pessoa: 42\n",
            "peso da 4 pessoa: 222\n",
            "peso da 5 pessoa: 322\n",
            "O maior peso foi 322.0 kg\n",
            "O menor peso foi 10.0 kg\n"
          ],
          "name": "stdout"
        }
      ]
    },
    {
      "cell_type": "code",
      "metadata": {
        "colab": {
          "base_uri": "https://localhost:8080/"
        },
        "id": "tCEcGXgLXlSA",
        "outputId": "73123588-f24b-4ec7-e22b-245726e6997d"
      },
      "source": [
        "#Exercício 56 - Desenvolva um programa que leia o nome, idade e sexo de 4 pessoas.\n",
        "#No final do programa, mostre: a média de idade do grupo, qual é o nome do homem mais velho e quantas mulheres têm menos de 20 anos.\n",
        "\n",
        "somaidade = 0\n",
        "mediaidade = 0\n",
        "maioridadehomem = 0\n",
        "nomevelho = ''\n",
        "totmulher20 = 0\n",
        "\n",
        "for p in range(1, 5):\n",
        "  print('========= {}ª pessoa ========='.format(p))\n",
        "  nome = str(input('Nome: ')).strip().upper()\n",
        "  idade = int(input('Idade: '))\n",
        "  sexo = str(input('Sexo [M/F]: ')).strip()\n",
        "  somaidade += idade\n",
        "  if p == 1 and sexo in 'Mm':\n",
        "    maioridadehomem = idade\n",
        "    nomevelho = nome\n",
        "  if sexo in 'Mm' and idade > maioridadehomem:\n",
        "    maioridadehomem = Idade\n",
        "    nomevelho = nome\n",
        "  if sexo in 'Ff' and idade < 20:\n",
        "    totmulher20 += 1\n",
        "    mediaidade = somaidade / 4\n",
        "print('A média de idade do grupo foi de {} anos'.format(mediaidade))\n",
        "print('O homem mais velho tem {} anos e chama se {}'.format(maioridadehomem, nomevelho))\n",
        "print('Ao todo são {} mulheres com menos de 20 anos'.format(totmulher20))"
      ],
      "execution_count": null,
      "outputs": [
        {
          "output_type": "stream",
          "text": [
            "========= 1ª pessoa =========\n",
            "Nome: Thiago\n",
            "Idade: 39\n",
            "Sexo [M/F]: m\n",
            "========= 2ª pessoa =========\n",
            "Nome: Camila\n",
            "Idade: 40\n",
            "Sexo [M/F]: f\n",
            "========= 3ª pessoa =========\n",
            "Nome: Livia\n",
            "Idade: 12\n",
            "Sexo [M/F]: f\n",
            "========= 4ª pessoa =========\n",
            "Nome: Arthur\n",
            "Idade: 8\n",
            "Sexo [M/F]: m\n",
            "A média de idade do grupo foi de 22.75 anos\n",
            "O homem mais velho tem 39 anos e chama se THIAGO\n",
            "Ao todo são 1 mulheres com menos de 20 anos\n"
          ],
          "name": "stdout"
        }
      ]
    },
    {
      "cell_type": "code",
      "metadata": {
        "id": "yvzmsj3qcZOH",
        "colab": {
          "base_uri": "https://localhost:8080/"
        },
        "outputId": "6684a92e-8bc5-463c-bb0e-1585bd34a9fa"
      },
      "source": [
        "#Exercício 57 - Faça um programa que leia o sexo de uma pessoa, mas só aceite os valores ‘M’ ou ‘F’.\n",
        "#Caso esteja errado, peça a digitação novamente até ter um valor correto.\n",
        "\n",
        "sexo = str(input('Digite o sexo [M/F]: ')).strip().upper()[0]\n",
        "while sexo not in 'MF':\n",
        "  sexo = str(input('Opção inválida, digite o sexo [M/F): ')).strip().upper()[0]\n",
        "print('Registro efetuado com sucesso!')"
      ],
      "execution_count": null,
      "outputs": [
        {
          "output_type": "stream",
          "text": [
            "Digite o sexo [M/F]: s\n",
            "Opção inválida, digite o sexo [M/F): e\n",
            "Opção inválida, digite o sexo [M/F): q\n",
            "Opção inválida, digite o sexo [M/F): a\n",
            "Opção inválida, digite o sexo [M/F): m\n",
            "Registro efetuado com sucesso!\n"
          ],
          "name": "stdout"
        }
      ]
    },
    {
      "cell_type": "code",
      "metadata": {
        "id": "yVFwxX1Y8Tvw",
        "colab": {
          "base_uri": "https://localhost:8080/"
        },
        "outputId": "d6f5a22f-1bca-4077-843a-7f22a21f5e86"
      },
      "source": [
        "#Exercício Python 58 - Melhore o jogo do DESAFIO 28 onde o computador vai “pensar” em um número entre 0 e 10.\n",
        "#Só que agora o jogador vai tentar adivinhar até acertar, mostrando no final quantos palpites foram necessários para vencer.\n",
        "\n",
        "from random import randint\n",
        "\n",
        "computador = randint(0, 10)\n",
        "print('---' * 20)\n",
        "print('Vou pensar em um número... Tente adivinhar!')\n",
        "print('---' * 20)\n",
        "acertou = False\n",
        "palpite = 0\n",
        "while not acertou:\n",
        "  jogador = int(input('Em que número eu pensei? '))\n",
        "  palpite += 1\n",
        "  if jogador == computador:\n",
        "    acertou = True\n",
        "  else:\n",
        "    if jogador < computador:\n",
        "      print('Mais...Tente novamente!')\n",
        "    elif jogador > computador:\n",
        "      print('Menos...tente novamente!')\n",
        "print('Acertou com {} tentativas!'.format(palpite))"
      ],
      "execution_count": null,
      "outputs": [
        {
          "output_type": "stream",
          "text": [
            "------------------------------------------------------------\n",
            "Vou pensar em um número... Tente adivinhar!\n",
            "------------------------------------------------------------\n",
            "Em que número eu pensei? 5\n",
            "Mais...Tente novamente!\n",
            "Em que número eu pensei? 6\n",
            "Mais...Tente novamente!\n",
            "Em que número eu pensei? 9\n",
            "Menos...tente novamente!\n",
            "Em que número eu pensei? 8\n",
            "Menos...tente novamente!\n",
            "Em que número eu pensei? 7\n",
            "Acertou com 5 tentativas!\n"
          ],
          "name": "stdout"
        }
      ]
    },
    {
      "cell_type": "code",
      "metadata": {
        "colab": {
          "base_uri": "https://localhost:8080/"
        },
        "id": "KopauPRzvces",
        "outputId": "b93b113d-bdc2-4fa7-af29-ca70ab80c645"
      },
      "source": [
        "#Exercício Python 059 - Crie um programa que leia dois valores e mostre um menu na tela:\n",
        "#[ 1 ] somar\n",
        "#[ 2 ] multiplicar\n",
        "#[ 3 ] maior\n",
        "#[ 4 ] novos números\n",
        "#[ 5 ] sair do programa\n",
        "#Seu programa deverá realizar a operação solicitada em cada caso.\n",
        "\n",
        "from time import sleep\n",
        "\n",
        "n1 = int(input('Digite o primeiro número: '))\n",
        "n2 = int(input('Digite o segundo número: '))\n",
        "opçao = 0\n",
        "\n",
        "while opçao != 5:\n",
        "  print('=' * 30)\n",
        "  print('''Escolha uma opção abaixo\n",
        "  [ 1 ] somar\n",
        "  [ 2 ] multiplicar\n",
        "  [ 3 ] maior\n",
        "  [ 4 ] novos números\n",
        "  [ 5 ] sair do programa''')\n",
        "  print('=' * 30)\n",
        "  opçao = int(input('Qual opção deseja? '))\n",
        "  if opçao == 1:\n",
        "    resultado = n1 + n2\n",
        "    print('O resultado da soma de {} + {} é {}'.format(n1, n2, resultado))\n",
        "  elif opçao == 2:\n",
        "    resultado = n1 * n2\n",
        "    print('O resultado da multiplicação de {} x {} é {}'.format(n1, n2, resultado))\n",
        "  elif opçao == 3:\n",
        "    if n1 > n2:\n",
        "      maior = n1\n",
        "      print('o número maior entre {} e {} é o número {}'.format(n1, n2, maior))\n",
        "    else:\n",
        "      maior = n2\n",
        "      print('o número maior entre {} e {} é o número {}'.format(n1, n2, maior))\n",
        "  elif opçao == 4:\n",
        "    print('Informe os números novamente')\n",
        "    n1 = int(input('Digite o primero número: '))\n",
        "    n2 = int(input('Digite o segundo número: '))\n",
        "  elif opçao == 5:\n",
        "    print('Finalizando programa...')\n",
        "    sleep(2)\n",
        "    print('Programa finalizado com sucesso.')\n",
        "  else:\n",
        "    print('Opção inválida, tente novamente.')\n"
      ],
      "execution_count": 17,
      "outputs": [
        {
          "output_type": "stream",
          "text": [
            "Digite o primeiro número: 9\n",
            "Digite o segundo número: 3\n",
            "==============================\n",
            "Escolha uma opção abaixo\n",
            "  [ 1 ] somar\n",
            "  [ 2 ] multiplicar\n",
            "  [ 3 ] maior\n",
            "  [ 4 ] novos números\n",
            "  [ 5 ] sair do programa\n",
            "==============================\n",
            "Qual opção deseja? 2\n",
            "O resultado da multiplicação de 9 x 3 é 27\n",
            "==============================\n",
            "Escolha uma opção abaixo\n",
            "  [ 1 ] somar\n",
            "  [ 2 ] multiplicar\n",
            "  [ 3 ] maior\n",
            "  [ 4 ] novos números\n",
            "  [ 5 ] sair do programa\n",
            "==============================\n",
            "Qual opção deseja? 1\n",
            "O resultado da soma de 9 + 3 é 12\n",
            "==============================\n",
            "Escolha uma opção abaixo\n",
            "  [ 1 ] somar\n",
            "  [ 2 ] multiplicar\n",
            "  [ 3 ] maior\n",
            "  [ 4 ] novos números\n",
            "  [ 5 ] sair do programa\n",
            "==============================\n",
            "Qual opção deseja? 3\n",
            "o número maior entre 9 e 3 é o número 9\n",
            "==============================\n",
            "Escolha uma opção abaixo\n",
            "  [ 1 ] somar\n",
            "  [ 2 ] multiplicar\n",
            "  [ 3 ] maior\n",
            "  [ 4 ] novos números\n",
            "  [ 5 ] sair do programa\n",
            "==============================\n",
            "Qual opção deseja? 4\n",
            "Informe os números novamente\n",
            "Digite o primero número: 10\n",
            "Digite o segundo número: 18\n",
            "==============================\n",
            "Escolha uma opção abaixo\n",
            "  [ 1 ] somar\n",
            "  [ 2 ] multiplicar\n",
            "  [ 3 ] maior\n",
            "  [ 4 ] novos números\n",
            "  [ 5 ] sair do programa\n",
            "==============================\n",
            "Qual opção deseja? 2\n",
            "O resultado da multiplicação de 10 x 18 é 180\n",
            "==============================\n",
            "Escolha uma opção abaixo\n",
            "  [ 1 ] somar\n",
            "  [ 2 ] multiplicar\n",
            "  [ 3 ] maior\n",
            "  [ 4 ] novos números\n",
            "  [ 5 ] sair do programa\n",
            "==============================\n",
            "Qual opção deseja? 5\n",
            "Finalizando programa...\n",
            "Programa finalizado com sucesso.\n"
          ],
          "name": "stdout"
        }
      ]
    },
    {
      "cell_type": "code",
      "metadata": {
        "id": "zLOnaKNh1OiY"
      },
      "source": [
        "#Exercício Python 060 - Faça um programa que leia um número qualquer e mostre o seu fatorial.\n",
        "#Exemplo: 5! = 5 x 4 x 3 x 2 x 1 = 120\n",
        "\n",
        "from time import sleep\n",
        "\n",
        "n = int(print('Digite o número para calcular o fatorial: '))\n",
        "c = n\n",
        "f = 1\n",
        "print('Calculando {}!'.format(n), end='')\n",
        "sleep(2)\n",
        "while c > 0:\n",
        "  print('{}')\n",
        "\n",
        "\n",
        "\n"
      ],
      "execution_count": null,
      "outputs": []
    }
  ]
}