{
  "nbformat": 4,
  "nbformat_minor": 0,
  "metadata": {
    "colab": {
      "name": "100 Exercícios Python.ipynb",
      "provenance": [],
      "collapsed_sections": [],
      "authorship_tag": "ABX9TyOwkX9Maecj5pjsixTo7uZq",
      "include_colab_link": true
    },
    "kernelspec": {
      "name": "python3",
      "display_name": "Python 3"
    },
    "language_info": {
      "name": "python"
    }
  },
  "cells": [
    {
      "cell_type": "markdown",
      "metadata": {
        "id": "view-in-github",
        "colab_type": "text"
      },
      "source": [
        "<a href=\"https://colab.research.google.com/github/ThiagoBellasDS/TreinandoGit/blob/master/100_Exerc%C3%ADcios_Python.ipynb\" target=\"_parent\"><img src=\"https://colab.research.google.com/assets/colab-badge.svg\" alt=\"Open In Colab\"/></a>"
      ]
    },
    {
      "cell_type": "code",
      "metadata": {
        "colab": {
          "base_uri": "https://localhost:8080/"
        },
        "id": "A76VsNU5BmRh",
        "outputId": "7835ea1d-90ee-4975-ed91-1e439ae5ec91"
      },
      "source": [
        "#Exercício 001 - Crie um programa que escreva \"Olá Mundo!\" na tela\n",
        "frase1 = 'Olá Mundo!'\n",
        "print(frase1)"
      ],
      "execution_count": null,
      "outputs": [
        {
          "output_type": "stream",
          "text": [
            "Olá Mundo!\n"
          ],
          "name": "stdout"
        }
      ]
    },
    {
      "cell_type": "code",
      "metadata": {
        "colab": {
          "base_uri": "https://localhost:8080/"
        },
        "id": "Kg4meKk7EwWn",
        "outputId": "94e60df6-474b-4905-f3fd-a1a4aff8bc8b"
      },
      "source": [
        "#Exercício 002 - Faça um programa que leia o nome de uma pessoa e mostre uma mensagem de boas-vindas.\n",
        "nome = (input('Digite seu nome: '))\n",
        "print('Prazer em conhece-lo {}!'.format(nome))"
      ],
      "execution_count": null,
      "outputs": [
        {
          "output_type": "stream",
          "text": [
            "Digite seu nome: Thiago\n",
            "Prazer em conhece-lo Thiago!\n"
          ],
          "name": "stdout"
        }
      ]
    },
    {
      "cell_type": "code",
      "metadata": {
        "colab": {
          "base_uri": "https://localhost:8080/"
        },
        "id": "LDL-MCBwGHkj",
        "outputId": "bb5dbbb4-7e8d-46fa-fc44-1c020ebe0f3d"
      },
      "source": [
        "#Exercício 003 - Crie um programa que leia dois números e mostre a soma entre eles.\n",
        "n1 = int(input('Digite um número: '))\n",
        "n2 = int(input('Digite outro número: '))\n",
        "soma = n1 + n2 \n",
        "print('A soma entre {} e {} é igual a {}!'.format(n1, n2, soma))"
      ],
      "execution_count": null,
      "outputs": [
        {
          "output_type": "stream",
          "text": [
            "Digite um número: 3\n",
            "Digite outro número: 4\n",
            "A soma entre 3 e 4 é igual a 7!\n"
          ],
          "name": "stdout"
        }
      ]
    },
    {
      "cell_type": "code",
      "metadata": {
        "colab": {
          "base_uri": "https://localhost:8080/"
        },
        "id": "-DgG7TlDHe4c",
        "outputId": "e13139c4-f51f-4d2a-e8bb-1f40afe311e9"
      },
      "source": [
        "#Exercício 004 - Faça um programa que leia algo pelo teclado e mostre na tela o seu tipo primitivo e todas as informações possíveis sobre ele.\n",
        "a = input('Digite ago: ')\n",
        "print('O o tipo primitivo deste valor é ', (type(a)))\n",
        "print('O tipo primitivo é um número?', a.isnumeric())\n",
        "print('O tipo primitivo são espaços?', a.isspace())\n",
        "print('O timo primitivo tem são todas maiúsculas?', a.isupper())\n",
        "print('É alfabético?', a.isalpha())\n",
        "print('É decimal?', a.isdecimal())\n",
        "print('E alfanumérico?', a.isalnum())\n",
        "print('Está em minúsculas?', a.islower())\n",
        "print('Começa com maiúscula?', a.title())"
      ],
      "execution_count": null,
      "outputs": [
        {
          "output_type": "stream",
          "text": [
            "Digite ago: Thaigo\n",
            "O o tipo primitivo deste valor é  <class 'str'>\n",
            "O tipo primitivo é um número? False\n",
            "O tipo primitivo são espaços? False\n",
            "O timo primitivo tem são todas maiúsculas? False\n",
            "É alfabético? True\n",
            "É decimal? False\n",
            "E alfanumérico? True\n",
            "Está em minúsculas? False\n",
            "Começa com maiúscula? Thaigo\n"
          ],
          "name": "stdout"
        }
      ]
    },
    {
      "cell_type": "code",
      "metadata": {
        "colab": {
          "base_uri": "https://localhost:8080/"
        },
        "id": "svONHGmULG0Q",
        "outputId": "46a8268d-37f7-4119-cd99-832a6afb78b8"
      },
      "source": [
        "#Exercício 005 - Faça um programa que leia um número Inteiro e mostre na tela o seu sucessor e seu antecessor.\n",
        "n = int(input('Digite um número: '))\n",
        "s = n + 1\n",
        "a = n - 1\n",
        "print('O antecessor de {} é {}, e o sucessor é {}'.format(n, a, s))"
      ],
      "execution_count": null,
      "outputs": [
        {
          "output_type": "stream",
          "text": [
            "Digite um número: 5\n",
            "O antecessor de 5 é 4, e o sucessor é 6\n"
          ],
          "name": "stdout"
        }
      ]
    },
    {
      "cell_type": "code",
      "metadata": {
        "id": "HVXcVWBGOsXE"
      },
      "source": [
        "#Exercício 006 - Crie um algoritmo que leia um número e mostre o seu dobro, triplo e raiz quadrada.\n",
        "from math import sqrt"
      ],
      "execution_count": null,
      "outputs": []
    },
    {
      "cell_type": "code",
      "metadata": {
        "colab": {
          "base_uri": "https://localhost:8080/"
        },
        "id": "8C-rztMxQsh3",
        "outputId": "4650e6d3-c3b4-4cb7-e09e-3d109d1242a8"
      },
      "source": [
        "n = float(input('Digite um número: '))\n",
        "db = n * 2\n",
        "tp = n * 3\n",
        "rz = sqrt(n)\n",
        "\n",
        "print('O dobro de {} é {} \\nO triplo de {} é {} \\nA raiz quadrada de {} é {: .2f}'.format(n, db, n, tp, n, rz))"
      ],
      "execution_count": null,
      "outputs": [
        {
          "output_type": "stream",
          "text": [
            "Digite um número: 81\n",
            "O dobro de 81.0 é 162.0 \n",
            "O triplo de 81.0 é 243.0 \n",
            "A raiz quadrada de 81.0 é  9.00\n"
          ],
          "name": "stdout"
        }
      ]
    },
    {
      "cell_type": "code",
      "metadata": {
        "colab": {
          "base_uri": "https://localhost:8080/"
        },
        "id": "NOzCvayfTjv5",
        "outputId": "87e6412f-86a6-40b2-d4b6-bd73110fca21"
      },
      "source": [
        "#Exercício 007 - Desenvolva um programa que leia as duas notas de um aluno, calcule e mostre a sua média.\n",
        "n1 = float(input('Digite a primeira nota: '))\n",
        "n2 = float(input('Digite outra nota: '))\n",
        "md = (n1 + n2) / 2\n",
        "print('A sua média foi de {}'.format(md))"
      ],
      "execution_count": null,
      "outputs": [
        {
          "output_type": "stream",
          "text": [
            "Digite a primeira nota: 4\n",
            "Digite outra nota: 2\n",
            "A sua média foi de 3.0\n"
          ],
          "name": "stdout"
        }
      ]
    },
    {
      "cell_type": "code",
      "metadata": {
        "colab": {
          "base_uri": "https://localhost:8080/"
        },
        "id": "GEVToL61VBUh",
        "outputId": "6139d774-22c2-48f8-edf8-36a6d6aba63d"
      },
      "source": [
        "#Exercício 008 - Escreva um programa que leia um valor em metros e o exiba convertido em centímetros e milímetros.\n",
        "metros = float(input('Digite os metros que deseja converter: '))\n",
        "cmt = metros * 100\n",
        "mmt = metros * 1000\n",
        "print('A distância de {} metros corresponde a {:.0f} centímetros ou {:.0f} milímetros'.format(metros, cmt, mmt))"
      ],
      "execution_count": null,
      "outputs": [
        {
          "output_type": "stream",
          "text": [
            "Digite os metros que deseja converter: 2.5\n",
            "A distância de 2.5 metros corresponde a 250 centímetros ou 2500 milímetros\n"
          ],
          "name": "stdout"
        }
      ]
    },
    {
      "cell_type": "code",
      "metadata": {
        "colab": {
          "base_uri": "https://localhost:8080/"
        },
        "id": "hhKlLaA-X8t-",
        "outputId": "ebe6e2b3-c8a5-4c99-e3fe-dd353eafb9e1"
      },
      "source": [
        "#Excercício 009 - Faça um programa que leia um número Inteiro qualquer e mostre na tela a sua tabuada.\n",
        "num = int(input('Digite um número para ver a tabuada: '))\n",
        "print('-'*15)\n",
        "print(f'{num} x {1} = {num*1}')\n",
        "print(f'{num} x {2} = {num*2}')\n",
        "print(f'{num} x {3} = {num*3}')\n",
        "print(f'{num} x {4} = {num*4}')\n",
        "print(f'{num} x {5} = {num*5}')\n",
        "print(f'{num} x {6} = {num*6}')\n",
        "print(f'{num} x {7} = {num*7}')\n",
        "print(f'{num} x {8} = {num*8}')\n",
        "print(f'{num} x {9} = {num*9}')\n",
        "print(f'{num} x {10} = {num*10}')\n",
        "print('-'*15)"
      ],
      "execution_count": null,
      "outputs": [
        {
          "output_type": "stream",
          "text": [
            "Digite um número para ver a tabuada: 3940\n",
            "---------------\n",
            "3940 x 1 = 3940\n",
            "3940 x 2 = 7880\n",
            "3940 x 3 = 11820\n",
            "3940 x 4 = 15760\n",
            "3940 x 5 = 19700\n",
            "3940 x 6 = 23640\n",
            "3940 x 7 = 27580\n",
            "3940 x 8 = 31520\n",
            "3940 x 9 = 35460\n",
            "3940 x 10 = 39400\n",
            "---------------\n"
          ],
          "name": "stdout"
        }
      ]
    },
    {
      "cell_type": "code",
      "metadata": {
        "id": "lOAmU5pfb6Vs",
        "colab": {
          "base_uri": "https://localhost:8080/"
        },
        "outputId": "bd340ee6-4fee-4aa7-c372-92a5e8a231e0"
      },
      "source": [
        "#Excercício 010 - Crie um programa que leia quanto dinheiro uma pessoa tem na carteira e mostre quantos dólares ela pode comprar.\n",
        "c = float(input('Quanto dinheiro tem na carteira? R$ '))\n",
        "d = 6.4\n",
        "conv = c / d\n",
        "print('Com {:.2f} reais você pode comprar {:.2f} dolares'.format(c, conv))"
      ],
      "execution_count": null,
      "outputs": [
        {
          "output_type": "stream",
          "text": [
            "Quanto dinheiro tem na carteira? R$ 232\n",
            "Com 232.00 reais você pode comprar 36.25 dolares\n"
          ],
          "name": "stdout"
        }
      ]
    },
    {
      "cell_type": "code",
      "metadata": {
        "colab": {
          "base_uri": "https://localhost:8080/"
        },
        "id": "SPe2VJnUYd7p",
        "outputId": "e2751ce2-5d07-4fea-84d6-8f7952622fe2"
      },
      "source": [
        "#Execício 011 - Faça um programa que leia a largura e a altura de uma parede em metros, calcule a sua área e a quantidade de tinta necessária para pintá-la,\n",
        "#sabendo que cada litro de tinta pinta uma área de 2 metros quadrados.\n",
        "\n",
        "#calcular a área a ser pintada\n",
        "x = float(input('Digite a altura da parede: '))\n",
        "y = float(input('Digite a largura da parede: '))\n",
        "tinta = 2\n",
        "dim = x * y\n",
        "qtd = dim / 2\n",
        "#calcular a qtd de tinta\n",
        "#qtd = dim / tinta\n",
        "#mostrar o resultado\n",
        "print('A sua parede tem {} x {} e uma área de {:.2} m2, e para pintar será necessário {:.2} litros de tinta.'.format(x, y, dim, qtd))"
      ],
      "execution_count": 3,
      "outputs": [
        {
          "output_type": "stream",
          "text": [
            "Digite a altura da parede: 3\n",
            "Digite a largura da parede: 3\n",
            "A sua parede tem 3.0 x 3.0 e uma área de 9.0 m2, e para pintar será necessário 4.5 litros de tinta.\n"
          ],
          "name": "stdout"
        }
      ]
    },
    {
      "cell_type": "code",
      "metadata": {
        "colab": {
          "base_uri": "https://localhost:8080/"
        },
        "id": "D1e4SRhlbFmK",
        "outputId": "3ce5ca57-a4a4-4ce6-8834-817a23666ad4"
      },
      "source": [
        "#Exercício 012 - Faça um algoritmo que leia o preço de um produto e mostre seu novo preço, com 5% de desconto.\n",
        "preçocheio = float(input('Preço antes do desconto: '))\n",
        "desc = 0.05\n",
        "preçofinal = ((preçocheio * desc) - preçocheio)* -1\n",
        "print('O preço final com 5% de desconto é R$ {:.3}'.format(preçofinal))"
      ],
      "execution_count": null,
      "outputs": [
        {
          "output_type": "stream",
          "text": [
            "Preço antes do desconto: 5.43\n",
            "O preço final com 5% de desconto é R$ 5.16\n"
          ],
          "name": "stdout"
        }
      ]
    },
    {
      "cell_type": "code",
      "metadata": {
        "colab": {
          "base_uri": "https://localhost:8080/"
        },
        "id": "YoO5nwU-hhuU",
        "outputId": "6a46b3d6-846c-4929-8394-1e5485737ebb"
      },
      "source": [
        "#Exercício 013 - Faça um algoritmo que leia o salário de um funcionário e mostre seu novo salário, com 15% de aumento.\n",
        "sal = float(input('Salário atual: R$ '))\n",
        "reag = 0.15\n",
        "salf = (sal * reag) + sal\n",
        "print('Você teve um aumento salarial de 15%, seu salário passa de {:.2f} para {:.2f} a partir deste mês, parabéns!'.format(sal, salf))"
      ],
      "execution_count": null,
      "outputs": [
        {
          "output_type": "stream",
          "text": [
            "Salário atual: R$ 1000\n",
            "Você teve um aumento salarial de 15%, seu salário passa de 1000.00 para 1150.00 a partir deste mês, parabéns!\n"
          ],
          "name": "stdout"
        }
      ]
    },
    {
      "cell_type": "code",
      "metadata": {
        "colab": {
          "base_uri": "https://localhost:8080/"
        },
        "id": "-33HMphrjoiF",
        "outputId": "de168333-ae45-41cd-9936-082cc4503f41"
      },
      "source": [
        "#Exercício 014 - Escreva um programa que converta uma temperatura digitando em graus Celsius e converta para graus Fahrenheit.\n",
        "c = float(input('Digite a temperatura em graus Celcius para converter a Fahrenheit: '))\n",
        "f = (9 * c / 5) + 32\n",
        "print('{:.1f} graus Celsius corresponde a {:.1f} graus Fahrenheit.'.format(c, f))"
      ],
      "execution_count": 2,
      "outputs": [
        {
          "output_type": "stream",
          "text": [
            "Digite a temperatura em graus Celcius para converter a Fahrenheit: 30\n",
            "30.0 graus Celsius corresponde a 86.0 graus Fahrenheit.\n"
          ],
          "name": "stdout"
        }
      ]
    },
    {
      "cell_type": "code",
      "metadata": {
        "colab": {
          "base_uri": "https://localhost:8080/"
        },
        "id": "bXnszrEtli5Y",
        "outputId": "f8758120-d4b4-40f0-b3e1-3e8efc8f8686"
      },
      "source": [
        "#Exercício 015 - Escreva um programa que pergunte a quantidade de Km percorridos por um carro alugado e a quantidade de dias pelos quais ele foi alugado.\n",
        "#Calcule o preço a pagar, sabendo que o carro custa R$60 por dia e R$0,15 por Km rodado.\n",
        "dias = int(input('Quantos dias alugou o carro? '))\n",
        "km = float(input('Quantos KMs percorreu? '))\n",
        "totald = dias * 60.00\n",
        "totalkm = km * 0.15\n",
        "totalgeral = totald + totalkm\n",
        "print(f'Cada dia de aluguel custa R$ 60.00, sendo {dias} dias de aluguel x R$ 60.00 um total de {totald:.2f} referente as diárias \\ne 0,15 centavos por KM x {km:.2f} que são {totalkm:.2f}, totalizando {totalgeral:.2f} de despesas com o aluguel + km rodados.')"
      ],
      "execution_count": 1,
      "outputs": [
        {
          "output_type": "stream",
          "text": [
            "Quantos dias alugou o carro? 7\n",
            "Quantos KMs percorreu? 700\n",
            "Cada dia de aluguel custa R$ 60.00, sendo 7 dias de aluguel x R$ 60.00 um total de 420.00 referente as diárias \n",
            "e 0,15 centavos por KM x 700.00 que são 105.00, totalizando 525.00 de despesas com o aluguel + km rodados.\n"
          ],
          "name": "stdout"
        }
      ]
    },
    {
      "cell_type": "code",
      "metadata": {
        "colab": {
          "base_uri": "https://localhost:8080/"
        },
        "id": "paIL3QQFByTa",
        "outputId": "0408a133-92ba-4120-cbc6-2e6e03a68327"
      },
      "source": [
        "#Exercício 016 - Crie um programa que leia um número Real qualquer pelo teclado e mostre na tela a sua porção Inteira.\n",
        "#Solução digitando pelo teclado\n",
        "import math\n",
        "num = float(input('Digite um número qualquer: '))\n",
        "numint = math.trunc(num)\n",
        "print('O numero real é {}, e a parte inteira deste número é {}'.format(num, numint))"
      ],
      "execution_count": 25,
      "outputs": [
        {
          "output_type": "stream",
          "text": [
            "Digite um número qualquer: 3.9242312313\n",
            "O numero real é 3.9242312313, e a parte inteira deste número é 3\n"
          ],
          "name": "stdout"
        }
      ]
    },
    {
      "cell_type": "code",
      "metadata": {
        "colab": {
          "base_uri": "https://localhost:8080/"
        },
        "id": "WRJKy3Jp05vz",
        "outputId": "9e1a9b81-f41c-4795-fa2d-c3a3effdf81f"
      },
      "source": [
        "#Exercício 016 - Crie um programa que leia um número Real qualquer pelo teclado e mostre na tela a sua porção Inteira.\n",
        "#Solução com número gerado aleatório pelo sistema\n",
        "import math\n",
        "import random\n",
        "num = random.uniform(1, 10)\n",
        "inteiro = math.trunc(num)\n",
        "print('O número aleatório é {} e a porção inteira é {}'.format(num, inteiro))"
      ],
      "execution_count": 24,
      "outputs": [
        {
          "output_type": "stream",
          "text": [
            "O número aleatório é 1.6265327470461575 e a porção inteira é 1\n"
          ],
          "name": "stdout"
        }
      ]
    },
    {
      "cell_type": "code",
      "metadata": {
        "colab": {
          "base_uri": "https://localhost:8080/"
        },
        "id": "jpK0d8fO_zus",
        "outputId": "82ebaf49-ea0d-41ea-a7e8-a4e55229d2a1"
      },
      "source": [
        "#Exercício 017 - Faça um programa que leia o comprimento do cateto oposto e do cateto adjacente de um triângulo retângulo. Calcule e mostre o comprimento da hipotenusa.\n",
        "#solução 1\n",
        "import math\n",
        "a = float(input('Digite o valor do cateto oposto: '))\n",
        "b = float(input('Digite o valor do catedo adjacente: '))\n",
        "x = (a ** 2) + (b ** 2)\n",
        "h = math.sqrt(x)\n",
        "print('O comprimento da hipotenusa do triangulo retangulo é {:.2f}'.format(h))"
      ],
      "execution_count": 39,
      "outputs": [
        {
          "output_type": "stream",
          "text": [
            "Digite o valor do cateto oposto: 8\n",
            "Digite o valor do catedo adjacente: 3\n",
            "O comprimento da hipotenusa do triangulo retangulo é 8.54\n"
          ],
          "name": "stdout"
        }
      ]
    },
    {
      "cell_type": "code",
      "metadata": {
        "colab": {
          "base_uri": "https://localhost:8080/"
        },
        "id": "N4LwpTt-IUQG",
        "outputId": "998004c5-22d0-4657-ae6d-330e87ed2a4f"
      },
      "source": [
        "#Exercício 017 - Faça um programa que leia o comprimento do cateto oposto e do cateto adjacente de um triângulo retângulo. Calcule e mostre o comprimento da hipotenusa.\n",
        "#solução 2 usando a função hypotis\n",
        "import math\n",
        "a = float(input('Digite o valor do cateto oposto: '))\n",
        "b = float(input('Digite o valor do catedo adjacente: '))\n",
        "h = math.hypot(a, b)\n",
        "print('O comprimento da hipotenusa do triangulo retangulo é {:.2f}'.format(h))"
      ],
      "execution_count": 40,
      "outputs": [
        {
          "output_type": "stream",
          "text": [
            "Digite o valor do cateto oposto: 8\n",
            "Digite o valor do catedo adjacente: 3\n",
            "O comprimento da hipotenusa do triangulo retangulo é 8.54\n"
          ],
          "name": "stdout"
        }
      ]
    },
    {
      "cell_type": "code",
      "metadata": {
        "colab": {
          "base_uri": "https://localhost:8080/"
        },
        "id": "YiUyoF0fNwiO",
        "outputId": "fe2dd2ed-998e-402e-ee1d-9950d05b9b8d"
      },
      "source": [
        "#Faça um programa que leia um ângulo qualquer e mostre na tela o valor do seno, cosseno e tangente desse ângulo.\n",
        "import math\n",
        "a = float(input('Digite o angulo para calcular o seno e o cosseno: '))\n",
        "s = math.sin(math.radians(a))\n",
        "c = math.cos(math.radians(a))\n",
        "t = math.tan(math.radians(a))\n",
        "print('Para o angulo de {}\\nO seno será {:.2f}\\nO cosseno será {:.2f}\\nA tangente será {:.2f}'.format(a, s, c, t))"
      ],
      "execution_count": 55,
      "outputs": [
        {
          "output_type": "stream",
          "text": [
            "Digite o angulo para calcular o seno e o cosseno: 30\n",
            "Para o angulo de 30.0\n",
            "O seno será 0.50\n",
            "O cosseno será 0.87\n",
            "A tangente será 0.58\n"
          ],
          "name": "stdout"
        }
      ]
    },
    {
      "cell_type": "code",
      "metadata": {
        "id": "B8SDc0_cRRBe"
      },
      "source": [
        ""
      ],
      "execution_count": null,
      "outputs": []
    }
  ]
}