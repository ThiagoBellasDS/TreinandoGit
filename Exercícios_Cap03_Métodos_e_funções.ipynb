{
  "nbformat": 4,
  "nbformat_minor": 0,
  "metadata": {
    "colab": {
      "name": "Exercícios Cap03 - Métodos e funções.ipynb",
      "provenance": [],
      "collapsed_sections": [],
      "authorship_tag": "ABX9TyPL3T6g1Lw1tH+Ebbv/S2yz",
      "include_colab_link": true
    },
    "kernelspec": {
      "name": "python3",
      "display_name": "Python 3"
    },
    "language_info": {
      "name": "python"
    }
  },
  "cells": [
    {
      "cell_type": "markdown",
      "metadata": {
        "id": "view-in-github",
        "colab_type": "text"
      },
      "source": [
        "<a href=\"https://colab.research.google.com/github/ThiagoBellasDS/TreinandoGit/blob/master/Exerc%C3%ADcios_Cap03_M%C3%A9todos_e_fun%C3%A7%C3%B5es.ipynb\" target=\"_parent\"><img src=\"https://colab.research.google.com/assets/colab-badge.svg\" alt=\"Open In Colab\"/></a>"
      ]
    },
    {
      "cell_type": "markdown",
      "metadata": {
        "id": "ikYES091J8NO"
      },
      "source": [
        "Exercícios Cap 03 - Métodos e Funçoes - DSA"
      ]
    },
    {
      "cell_type": "code",
      "metadata": {
        "id": "eB5BtPHAJ7Tk"
      },
      "source": [
        "# Exercício 1 - Crie uma função que imprima a sequência de números pares entre 1 e 20 (a função não recebe parâmetro) e \n",
        "# depois faça uma chamada à função para listar os números\n",
        "def listapar():\n",
        "  for i in range(0, 21, 2):\n",
        "    print(i)"
      ],
      "execution_count": null,
      "outputs": []
    },
    {
      "cell_type": "code",
      "metadata": {
        "colab": {
          "base_uri": "https://localhost:8080/"
        },
        "id": "Y9njvinIS4r2",
        "outputId": "7732eb9e-c1f1-4afd-fede-e9d0d10e6814"
      },
      "source": [
        "listapar()"
      ],
      "execution_count": null,
      "outputs": [
        {
          "output_type": "stream",
          "text": [
            "0\n",
            "2\n",
            "4\n",
            "6\n",
            "8\n",
            "10\n",
            "12\n",
            "14\n",
            "16\n",
            "18\n",
            "20\n"
          ],
          "name": "stdout"
        }
      ]
    },
    {
      "cell_type": "code",
      "metadata": {
        "id": "8YAAH8y7IrCo"
      },
      "source": [
        "# Exercício 2 - Crie uam função que receba uma string como argumento e retorne a mesma string em letras maiúsculas.\n",
        "# Faça uma chamada à função, passando como parâmetro uma string\n",
        "def funcString(texto):\n",
        "  print(texto.upper())"
      ],
      "execution_count": null,
      "outputs": []
    },
    {
      "cell_type": "code",
      "metadata": {
        "colab": {
          "base_uri": "https://localhost:8080/"
        },
        "id": "jULq10s2O_LS",
        "outputId": "bbc18255-0d30-4aab-9026-c8da5f6e8948"
      },
      "source": [
        "funcString('thiago')"
      ],
      "execution_count": null,
      "outputs": [
        {
          "output_type": "stream",
          "text": [
            "THIAGO\n"
          ],
          "name": "stdout"
        }
      ]
    },
    {
      "cell_type": "code",
      "metadata": {
        "colab": {
          "base_uri": "https://localhost:8080/"
        },
        "id": "sG7K4fb3P1Cy",
        "outputId": "47fb9b41-7c36-4b01-da29-bf3b18345bfb"
      },
      "source": [
        "# Exercício 3 - Crie uma função que receba como parâmetro uma lista de 4 elementos, adicione 2 elementos a lista e \n",
        "# imprima a lista\n",
        "listanova = ['el1', 'el2', 'el3', 'el4']\n",
        "def append(el5, el6): \n",
        "  return listanova\n",
        "print(listanova)\n",
        "\n"
      ],
      "execution_count": null,
      "outputs": [
        {
          "output_type": "stream",
          "text": [
            "['el1', 'el2', 'el3', 'el4']\n"
          ],
          "name": "stdout"
        }
      ]
    }
  ]
}